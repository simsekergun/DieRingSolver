{
  "cells": [
    {
      "cell_type": "markdown",
      "metadata": {
        "id": "view-in-github",
        "colab_type": "text"
      },
      "source": [
        "<a href=\"https://colab.research.google.com/github/simsekergun/DieRingSolver/blob/main/Tidy3D_Ring_ModeSolver_ppw_vs_neff.ipynb\" target=\"_parent\"><img src=\"https://colab.research.google.com/assets/colab-badge.svg\" alt=\"Open In Colab\"/></a>"
      ]
    },
    {
      "cell_type": "code",
      "execution_count": 1,
      "metadata": {
        "colab": {
          "base_uri": "https://localhost:8080/"
        },
        "id": "sIi-OxEf8zrv",
        "outputId": "280cd886-b6c3-4ffd-9246-39f08e947e8f"
      },
      "outputs": [
        {
          "output_type": "stream",
          "name": "stdout",
          "text": [
            "Collecting tidy3d\n",
            "  Downloading tidy3d-2.8.4-py3-none-any.whl.metadata (10 kB)\n",
            "Requirement already satisfied: PyYAML in /usr/local/lib/python3.11/dist-packages (from tidy3d) (6.0.2)\n",
            "Requirement already satisfied: autograd>=1.7.0 in /usr/local/lib/python3.11/dist-packages (from tidy3d) (1.8.0)\n",
            "Collecting boto3<2.0.0,>=1.28.0 (from tidy3d)\n",
            "  Downloading boto3-1.39.3-py3-none-any.whl.metadata (6.6 kB)\n",
            "Requirement already satisfied: click<9.0.0,>=8.1.0 in /usr/local/lib/python3.11/dist-packages (from tidy3d) (8.2.1)\n",
            "Requirement already satisfied: dask in /usr/local/lib/python3.11/dist-packages (from tidy3d) (2024.12.1)\n",
            "Collecting h5netcdf==1.0.2 (from tidy3d)\n",
            "  Downloading h5netcdf-1.0.2-py2.py3-none-any.whl.metadata (10 kB)\n",
            "Requirement already satisfied: h5py<4.0.0,>=3.0.0 in /usr/local/lib/python3.11/dist-packages (from tidy3d) (3.14.0)\n",
            "Requirement already satisfied: importlib-metadata>=6.0.0 in /usr/local/lib/python3.11/dist-packages (from tidy3d) (8.7.0)\n",
            "Requirement already satisfied: joblib in /usr/local/lib/python3.11/dist-packages (from tidy3d) (1.5.1)\n",
            "Requirement already satisfied: matplotlib in /usr/local/lib/python3.11/dist-packages (from tidy3d) (3.10.0)\n",
            "Requirement already satisfied: numpy in /usr/local/lib/python3.11/dist-packages (from tidy3d) (2.0.2)\n",
            "Requirement already satisfied: pandas in /usr/local/lib/python3.11/dist-packages (from tidy3d) (2.2.2)\n",
            "Requirement already satisfied: pydantic<3.0,>=2.0 in /usr/local/lib/python3.11/dist-packages (from tidy3d) (2.11.7)\n",
            "Requirement already satisfied: pyjwt in /usr/local/lib/python3.11/dist-packages (from tidy3d) (2.10.1)\n",
            "Collecting pyroots>=0.5.0 (from tidy3d)\n",
            "  Downloading pyroots-0.5.0-py2.py3-none-any.whl.metadata (8.4 kB)\n",
            "Requirement already satisfied: requests<3.0.0,>=2.31.0 in /usr/local/lib/python3.11/dist-packages (from tidy3d) (2.32.3)\n",
            "Collecting responses (from tidy3d)\n",
            "  Downloading responses-0.25.7-py3-none-any.whl.metadata (47 kB)\n",
            "\u001b[2K     \u001b[90m━━━━━━━━━━━━━━━━━━━━━━━━━━━━━━━━━━━━━━━━\u001b[0m \u001b[32m47.2/47.2 kB\u001b[0m \u001b[31m2.0 MB/s\u001b[0m eta \u001b[36m0:00:00\u001b[0m\n",
            "\u001b[?25hRequirement already satisfied: rich<14.0,>=13.0 in /usr/local/lib/python3.11/dist-packages (from tidy3d) (13.9.4)\n",
            "Requirement already satisfied: scipy in /usr/local/lib/python3.11/dist-packages (from tidy3d) (1.15.3)\n",
            "Requirement already satisfied: shapely<3.0,>=2.0 in /usr/local/lib/python3.11/dist-packages (from tidy3d) (2.1.1)\n",
            "Requirement already satisfied: toml in /usr/local/lib/python3.11/dist-packages (from tidy3d) (0.10.2)\n",
            "Requirement already satisfied: xarray>=2023.08 in /usr/local/lib/python3.11/dist-packages (from tidy3d) (2025.3.1)\n",
            "Requirement already satisfied: packaging in /usr/local/lib/python3.11/dist-packages (from h5netcdf==1.0.2->tidy3d) (24.2)\n",
            "Collecting botocore<1.40.0,>=1.39.3 (from boto3<2.0.0,>=1.28.0->tidy3d)\n",
            "  Downloading botocore-1.39.3-py3-none-any.whl.metadata (5.7 kB)\n",
            "Collecting jmespath<2.0.0,>=0.7.1 (from boto3<2.0.0,>=1.28.0->tidy3d)\n",
            "  Downloading jmespath-1.0.1-py3-none-any.whl.metadata (7.6 kB)\n",
            "Collecting s3transfer<0.14.0,>=0.13.0 (from boto3<2.0.0,>=1.28.0->tidy3d)\n",
            "  Downloading s3transfer-0.13.0-py3-none-any.whl.metadata (1.7 kB)\n",
            "Requirement already satisfied: zipp>=3.20 in /usr/local/lib/python3.11/dist-packages (from importlib-metadata>=6.0.0->tidy3d) (3.23.0)\n",
            "Requirement already satisfied: annotated-types>=0.6.0 in /usr/local/lib/python3.11/dist-packages (from pydantic<3.0,>=2.0->tidy3d) (0.7.0)\n",
            "Requirement already satisfied: pydantic-core==2.33.2 in /usr/local/lib/python3.11/dist-packages (from pydantic<3.0,>=2.0->tidy3d) (2.33.2)\n",
            "Requirement already satisfied: typing-extensions>=4.12.2 in /usr/local/lib/python3.11/dist-packages (from pydantic<3.0,>=2.0->tidy3d) (4.14.0)\n",
            "Requirement already satisfied: typing-inspection>=0.4.0 in /usr/local/lib/python3.11/dist-packages (from pydantic<3.0,>=2.0->tidy3d) (0.4.1)\n",
            "Requirement already satisfied: charset-normalizer<4,>=2 in /usr/local/lib/python3.11/dist-packages (from requests<3.0.0,>=2.31.0->tidy3d) (3.4.2)\n",
            "Requirement already satisfied: idna<4,>=2.5 in /usr/local/lib/python3.11/dist-packages (from requests<3.0.0,>=2.31.0->tidy3d) (3.10)\n",
            "Requirement already satisfied: urllib3<3,>=1.21.1 in /usr/local/lib/python3.11/dist-packages (from requests<3.0.0,>=2.31.0->tidy3d) (2.4.0)\n",
            "Requirement already satisfied: certifi>=2017.4.17 in /usr/local/lib/python3.11/dist-packages (from requests<3.0.0,>=2.31.0->tidy3d) (2025.6.15)\n",
            "Requirement already satisfied: markdown-it-py>=2.2.0 in /usr/local/lib/python3.11/dist-packages (from rich<14.0,>=13.0->tidy3d) (3.0.0)\n",
            "Requirement already satisfied: pygments<3.0.0,>=2.13.0 in /usr/local/lib/python3.11/dist-packages (from rich<14.0,>=13.0->tidy3d) (2.19.2)\n",
            "Requirement already satisfied: python-dateutil>=2.8.2 in /usr/local/lib/python3.11/dist-packages (from pandas->tidy3d) (2.9.0.post0)\n",
            "Requirement already satisfied: pytz>=2020.1 in /usr/local/lib/python3.11/dist-packages (from pandas->tidy3d) (2025.2)\n",
            "Requirement already satisfied: tzdata>=2022.7 in /usr/local/lib/python3.11/dist-packages (from pandas->tidy3d) (2025.2)\n",
            "Requirement already satisfied: cloudpickle>=3.0.0 in /usr/local/lib/python3.11/dist-packages (from dask->tidy3d) (3.1.1)\n",
            "Requirement already satisfied: fsspec>=2021.09.0 in /usr/local/lib/python3.11/dist-packages (from dask->tidy3d) (2025.3.2)\n",
            "Requirement already satisfied: partd>=1.4.0 in /usr/local/lib/python3.11/dist-packages (from dask->tidy3d) (1.4.2)\n",
            "Requirement already satisfied: toolz>=0.10.0 in /usr/local/lib/python3.11/dist-packages (from dask->tidy3d) (0.12.1)\n",
            "Requirement already satisfied: contourpy>=1.0.1 in /usr/local/lib/python3.11/dist-packages (from matplotlib->tidy3d) (1.3.2)\n",
            "Requirement already satisfied: cycler>=0.10 in /usr/local/lib/python3.11/dist-packages (from matplotlib->tidy3d) (0.12.1)\n",
            "Requirement already satisfied: fonttools>=4.22.0 in /usr/local/lib/python3.11/dist-packages (from matplotlib->tidy3d) (4.58.4)\n",
            "Requirement already satisfied: kiwisolver>=1.3.1 in /usr/local/lib/python3.11/dist-packages (from matplotlib->tidy3d) (1.4.8)\n",
            "Requirement already satisfied: pillow>=8 in /usr/local/lib/python3.11/dist-packages (from matplotlib->tidy3d) (11.2.1)\n",
            "Requirement already satisfied: pyparsing>=2.3.1 in /usr/local/lib/python3.11/dist-packages (from matplotlib->tidy3d) (3.2.3)\n",
            "Requirement already satisfied: mdurl~=0.1 in /usr/local/lib/python3.11/dist-packages (from markdown-it-py>=2.2.0->rich<14.0,>=13.0->tidy3d) (0.1.2)\n",
            "Requirement already satisfied: locket in /usr/local/lib/python3.11/dist-packages (from partd>=1.4.0->dask->tidy3d) (1.0.0)\n",
            "Requirement already satisfied: six>=1.5 in /usr/local/lib/python3.11/dist-packages (from python-dateutil>=2.8.2->pandas->tidy3d) (1.17.0)\n",
            "Downloading tidy3d-2.8.4-py3-none-any.whl (1.3 MB)\n",
            "\u001b[2K   \u001b[90m━━━━━━━━━━━━━━━━━━━━━━━━━━━━━━━━━━━━━━━━\u001b[0m \u001b[32m1.3/1.3 MB\u001b[0m \u001b[31m15.9 MB/s\u001b[0m eta \u001b[36m0:00:00\u001b[0m\n",
            "\u001b[?25hDownloading h5netcdf-1.0.2-py2.py3-none-any.whl (24 kB)\n",
            "Downloading boto3-1.39.3-py3-none-any.whl (139 kB)\n",
            "\u001b[2K   \u001b[90m━━━━━━━━━━━━━━━━━━━━━━━━━━━━━━━━━━━━━━━━\u001b[0m \u001b[32m139.9/139.9 kB\u001b[0m \u001b[31m9.1 MB/s\u001b[0m eta \u001b[36m0:00:00\u001b[0m\n",
            "\u001b[?25hDownloading pyroots-0.5.0-py2.py3-none-any.whl (17 kB)\n",
            "Downloading responses-0.25.7-py3-none-any.whl (34 kB)\n",
            "Downloading botocore-1.39.3-py3-none-any.whl (13.8 MB)\n",
            "\u001b[2K   \u001b[90m━━━━━━━━━━━━━━━━━━━━━━━━━━━━━━━━━━━━━━━━\u001b[0m \u001b[32m13.8/13.8 MB\u001b[0m \u001b[31m57.3 MB/s\u001b[0m eta \u001b[36m0:00:00\u001b[0m\n",
            "\u001b[?25hDownloading jmespath-1.0.1-py3-none-any.whl (20 kB)\n",
            "Downloading s3transfer-0.13.0-py3-none-any.whl (85 kB)\n",
            "\u001b[2K   \u001b[90m━━━━━━━━━━━━━━━━━━━━━━━━━━━━━━━━━━━━━━━━\u001b[0m \u001b[32m85.2/85.2 kB\u001b[0m \u001b[31m7.3 MB/s\u001b[0m eta \u001b[36m0:00:00\u001b[0m\n",
            "\u001b[?25hInstalling collected packages: pyroots, jmespath, responses, h5netcdf, botocore, s3transfer, boto3, tidy3d\n",
            "  Attempting uninstall: h5netcdf\n",
            "    Found existing installation: h5netcdf 1.6.3\n",
            "    Uninstalling h5netcdf-1.6.3:\n",
            "      Successfully uninstalled h5netcdf-1.6.3\n",
            "Successfully installed boto3-1.39.3 botocore-1.39.3 h5netcdf-1.0.2 jmespath-1.0.1 pyroots-0.5.0 responses-0.25.7 s3transfer-0.13.0 tidy3d-2.8.4\n"
          ]
        }
      ],
      "source": [
        "!pip install tidy3d"
      ]
    },
    {
      "cell_type": "code",
      "execution_count": 2,
      "metadata": {
        "id": "oFpGI9eI80Td"
      },
      "outputs": [],
      "source": [
        "import numpy as np\n",
        "import matplotlib.pyplot as plt\n",
        "from matplotlib.colors import BoundaryNorm\n",
        "from matplotlib.ticker import MaxNLocator\n",
        "import time\n",
        "from numpy import random\n",
        "import matplotlib.pyplot as plt\n",
        "import matplotlib as mpl\n",
        "import psutil\n",
        "import os\n",
        "\n",
        "# tidy3D import\n",
        "import tidy3d.web as web\n",
        "import tidy3d as td\n",
        "from tidy3d.plugins.mode import ModeSolver\n",
        "from tidy3d.plugins.mode.web import run as run_mode_solver"
      ]
    },
    {
      "cell_type": "code",
      "execution_count": 15,
      "metadata": {
        "colab": {
          "base_uri": "https://localhost:8080/",
          "height": 1000
        },
        "id": "Fa0-cq7-5piV",
        "outputId": "63c8d20e-7ec6-4b1a-9de5-29b9dd100c23"
      },
      "outputs": [
        {
          "output_type": "display_data",
          "data": {
            "text/plain": [
              "\u001b[2;36m16:45:51 UTC\u001b[0m\u001b[2;36m \u001b[0m\u001b[31mWARNING: Mode field at frequency index \u001b[0m\u001b[1;36m0\u001b[0m\u001b[31m, mode index \u001b[0m\u001b[1;36m6\u001b[0m\u001b[31m does not    \u001b[0m\n",
              "\u001b[2;36m             \u001b[0m\u001b[31mdecay at the plane boundaries.                                     \u001b[0m\n"
            ],
            "text/html": [
              "<pre style=\"white-space:pre;overflow-x:auto;line-height:normal;font-family:Menlo,'DejaVu Sans Mono',consolas,'Courier New',monospace\"><span style=\"color: #7fbfbf; text-decoration-color: #7fbfbf\">16:45:51 UTC </span><span style=\"color: #800000; text-decoration-color: #800000\">WARNING: Mode field at frequency index </span><span style=\"color: #008080; text-decoration-color: #008080; font-weight: bold\">0</span><span style=\"color: #800000; text-decoration-color: #800000\">, mode index </span><span style=\"color: #008080; text-decoration-color: #008080; font-weight: bold\">6</span><span style=\"color: #800000; text-decoration-color: #800000\"> does not    </span>\n",
              "<span style=\"color: #7fbfbf; text-decoration-color: #7fbfbf\">             </span><span style=\"color: #800000; text-decoration-color: #800000\">decay at the plane boundaries.                                     </span>\n",
              "</pre>\n"
            ]
          },
          "metadata": {}
        },
        {
          "output_type": "display_data",
          "data": {
            "text/plain": [
              "\u001b[2;36m16:45:52 UTC\u001b[0m\u001b[2;36m \u001b[0m\u001b[31mWARNING: Mode field at frequency index \u001b[0m\u001b[1;36m0\u001b[0m\u001b[31m, mode index \u001b[0m\u001b[1;36m7\u001b[0m\u001b[31m does not    \u001b[0m\n",
              "\u001b[2;36m             \u001b[0m\u001b[31mdecay at the plane boundaries.                                     \u001b[0m\n"
            ],
            "text/html": [
              "<pre style=\"white-space:pre;overflow-x:auto;line-height:normal;font-family:Menlo,'DejaVu Sans Mono',consolas,'Courier New',monospace\"><span style=\"color: #7fbfbf; text-decoration-color: #7fbfbf\">16:45:52 UTC </span><span style=\"color: #800000; text-decoration-color: #800000\">WARNING: Mode field at frequency index </span><span style=\"color: #008080; text-decoration-color: #008080; font-weight: bold\">0</span><span style=\"color: #800000; text-decoration-color: #800000\">, mode index </span><span style=\"color: #008080; text-decoration-color: #008080; font-weight: bold\">7</span><span style=\"color: #800000; text-decoration-color: #800000\"> does not    </span>\n",
              "<span style=\"color: #7fbfbf; text-decoration-color: #7fbfbf\">             </span><span style=\"color: #800000; text-decoration-color: #800000\">decay at the plane boundaries.                                     </span>\n",
              "</pre>\n"
            ]
          },
          "metadata": {}
        },
        {
          "output_type": "display_data",
          "data": {
            "text/plain": [
              "\u001b[2;36m            \u001b[0m\u001b[2;36m \u001b[0m\u001b[31mWARNING: Mode field at frequency index \u001b[0m\u001b[1;36m0\u001b[0m\u001b[31m, mode index \u001b[0m\u001b[1;36m8\u001b[0m\u001b[31m does not    \u001b[0m\n",
              "\u001b[2;36m             \u001b[0m\u001b[31mdecay at the plane boundaries.                                     \u001b[0m\n"
            ],
            "text/html": [
              "<pre style=\"white-space:pre;overflow-x:auto;line-height:normal;font-family:Menlo,'DejaVu Sans Mono',consolas,'Courier New',monospace\"><span style=\"color: #7fbfbf; text-decoration-color: #7fbfbf\">             </span><span style=\"color: #800000; text-decoration-color: #800000\">WARNING: Mode field at frequency index </span><span style=\"color: #008080; text-decoration-color: #008080; font-weight: bold\">0</span><span style=\"color: #800000; text-decoration-color: #800000\">, mode index </span><span style=\"color: #008080; text-decoration-color: #008080; font-weight: bold\">8</span><span style=\"color: #800000; text-decoration-color: #800000\"> does not    </span>\n",
              "<span style=\"color: #7fbfbf; text-decoration-color: #7fbfbf\">             </span><span style=\"color: #800000; text-decoration-color: #800000\">decay at the plane boundaries.                                     </span>\n",
              "</pre>\n"
            ]
          },
          "metadata": {}
        },
        {
          "output_type": "display_data",
          "data": {
            "text/plain": [
              "\u001b[2;36m            \u001b[0m\u001b[2;36m \u001b[0m\u001b[31mWARNING: Mode field at frequency index \u001b[0m\u001b[1;36m0\u001b[0m\u001b[31m, mode index \u001b[0m\u001b[1;36m9\u001b[0m\u001b[31m does not    \u001b[0m\n",
              "\u001b[2;36m             \u001b[0m\u001b[31mdecay at the plane boundaries.                                     \u001b[0m\n"
            ],
            "text/html": [
              "<pre style=\"white-space:pre;overflow-x:auto;line-height:normal;font-family:Menlo,'DejaVu Sans Mono',consolas,'Courier New',monospace\"><span style=\"color: #7fbfbf; text-decoration-color: #7fbfbf\">             </span><span style=\"color: #800000; text-decoration-color: #800000\">WARNING: Mode field at frequency index </span><span style=\"color: #008080; text-decoration-color: #008080; font-weight: bold\">0</span><span style=\"color: #800000; text-decoration-color: #800000\">, mode index </span><span style=\"color: #008080; text-decoration-color: #008080; font-weight: bold\">9</span><span style=\"color: #800000; text-decoration-color: #800000\"> does not    </span>\n",
              "<span style=\"color: #7fbfbf; text-decoration-color: #7fbfbf\">             </span><span style=\"color: #800000; text-decoration-color: #800000\">decay at the plane boundaries.                                     </span>\n",
              "</pre>\n"
            ]
          },
          "metadata": {}
        },
        {
          "output_type": "display_data",
          "data": {
            "text/plain": [
              "\u001b[2;36m            \u001b[0m\u001b[2;36m \u001b[0m\u001b[31mWARNING: Mode field at frequency index \u001b[0m\u001b[1;36m0\u001b[0m\u001b[31m, mode index \u001b[0m\u001b[1;36m10\u001b[0m\u001b[31m does not   \u001b[0m\n",
              "\u001b[2;36m             \u001b[0m\u001b[31mdecay at the plane boundaries.                                     \u001b[0m\n"
            ],
            "text/html": [
              "<pre style=\"white-space:pre;overflow-x:auto;line-height:normal;font-family:Menlo,'DejaVu Sans Mono',consolas,'Courier New',monospace\"><span style=\"color: #7fbfbf; text-decoration-color: #7fbfbf\">             </span><span style=\"color: #800000; text-decoration-color: #800000\">WARNING: Mode field at frequency index </span><span style=\"color: #008080; text-decoration-color: #008080; font-weight: bold\">0</span><span style=\"color: #800000; text-decoration-color: #800000\">, mode index </span><span style=\"color: #008080; text-decoration-color: #008080; font-weight: bold\">10</span><span style=\"color: #800000; text-decoration-color: #800000\"> does not   </span>\n",
              "<span style=\"color: #7fbfbf; text-decoration-color: #7fbfbf\">             </span><span style=\"color: #800000; text-decoration-color: #800000\">decay at the plane boundaries.                                     </span>\n",
              "</pre>\n"
            ]
          },
          "metadata": {}
        },
        {
          "output_type": "display_data",
          "data": {
            "text/plain": [
              "\u001b[2;36m            \u001b[0m\u001b[2;36m \u001b[0m\u001b[31mWARNING: Mode field at frequency index \u001b[0m\u001b[1;36m0\u001b[0m\u001b[31m, mode index \u001b[0m\u001b[1;36m11\u001b[0m\u001b[31m does not   \u001b[0m\n",
              "\u001b[2;36m             \u001b[0m\u001b[31mdecay at the plane boundaries.                                     \u001b[0m\n"
            ],
            "text/html": [
              "<pre style=\"white-space:pre;overflow-x:auto;line-height:normal;font-family:Menlo,'DejaVu Sans Mono',consolas,'Courier New',monospace\"><span style=\"color: #7fbfbf; text-decoration-color: #7fbfbf\">             </span><span style=\"color: #800000; text-decoration-color: #800000\">WARNING: Mode field at frequency index </span><span style=\"color: #008080; text-decoration-color: #008080; font-weight: bold\">0</span><span style=\"color: #800000; text-decoration-color: #800000\">, mode index </span><span style=\"color: #008080; text-decoration-color: #008080; font-weight: bold\">11</span><span style=\"color: #800000; text-decoration-color: #800000\"> does not   </span>\n",
              "<span style=\"color: #7fbfbf; text-decoration-color: #7fbfbf\">             </span><span style=\"color: #800000; text-decoration-color: #800000\">decay at the plane boundaries.                                     </span>\n",
              "</pre>\n"
            ]
          },
          "metadata": {}
        },
        {
          "output_type": "display_data",
          "data": {
            "text/plain": [
              "\u001b[2;36m            \u001b[0m\u001b[2;36m \u001b[0m\u001b[31mWARNING: Mode field at frequency index \u001b[0m\u001b[1;36m0\u001b[0m\u001b[31m, mode index \u001b[0m\u001b[1;36m12\u001b[0m\u001b[31m does not   \u001b[0m\n",
              "\u001b[2;36m             \u001b[0m\u001b[31mdecay at the plane boundaries.                                     \u001b[0m\n"
            ],
            "text/html": [
              "<pre style=\"white-space:pre;overflow-x:auto;line-height:normal;font-family:Menlo,'DejaVu Sans Mono',consolas,'Courier New',monospace\"><span style=\"color: #7fbfbf; text-decoration-color: #7fbfbf\">             </span><span style=\"color: #800000; text-decoration-color: #800000\">WARNING: Mode field at frequency index </span><span style=\"color: #008080; text-decoration-color: #008080; font-weight: bold\">0</span><span style=\"color: #800000; text-decoration-color: #800000\">, mode index </span><span style=\"color: #008080; text-decoration-color: #008080; font-weight: bold\">12</span><span style=\"color: #800000; text-decoration-color: #800000\"> does not   </span>\n",
              "<span style=\"color: #7fbfbf; text-decoration-color: #7fbfbf\">             </span><span style=\"color: #800000; text-decoration-color: #800000\">decay at the plane boundaries.                                     </span>\n",
              "</pre>\n"
            ]
          },
          "metadata": {}
        },
        {
          "output_type": "display_data",
          "data": {
            "text/plain": [
              "\u001b[2;36m            \u001b[0m\u001b[2;36m \u001b[0m\u001b[31mWARNING: Mode field at frequency index \u001b[0m\u001b[1;36m0\u001b[0m\u001b[31m, mode index \u001b[0m\u001b[1;36m13\u001b[0m\u001b[31m does not   \u001b[0m\n",
              "\u001b[2;36m             \u001b[0m\u001b[31mdecay at the plane boundaries.                                     \u001b[0m\n"
            ],
            "text/html": [
              "<pre style=\"white-space:pre;overflow-x:auto;line-height:normal;font-family:Menlo,'DejaVu Sans Mono',consolas,'Courier New',monospace\"><span style=\"color: #7fbfbf; text-decoration-color: #7fbfbf\">             </span><span style=\"color: #800000; text-decoration-color: #800000\">WARNING: Mode field at frequency index </span><span style=\"color: #008080; text-decoration-color: #008080; font-weight: bold\">0</span><span style=\"color: #800000; text-decoration-color: #800000\">, mode index </span><span style=\"color: #008080; text-decoration-color: #008080; font-weight: bold\">13</span><span style=\"color: #800000; text-decoration-color: #800000\"> does not   </span>\n",
              "<span style=\"color: #7fbfbf; text-decoration-color: #7fbfbf\">             </span><span style=\"color: #800000; text-decoration-color: #800000\">decay at the plane boundaries.                                     </span>\n",
              "</pre>\n"
            ]
          },
          "metadata": {}
        },
        {
          "output_type": "display_data",
          "data": {
            "text/plain": [
              "\u001b[2;36m            \u001b[0m\u001b[2;36m \u001b[0m\u001b[31mWARNING: Mode field at frequency index \u001b[0m\u001b[1;36m0\u001b[0m\u001b[31m, mode index \u001b[0m\u001b[1;36m14\u001b[0m\u001b[31m does not   \u001b[0m\n",
              "\u001b[2;36m             \u001b[0m\u001b[31mdecay at the plane boundaries.                                     \u001b[0m\n"
            ],
            "text/html": [
              "<pre style=\"white-space:pre;overflow-x:auto;line-height:normal;font-family:Menlo,'DejaVu Sans Mono',consolas,'Courier New',monospace\"><span style=\"color: #7fbfbf; text-decoration-color: #7fbfbf\">             </span><span style=\"color: #800000; text-decoration-color: #800000\">WARNING: Mode field at frequency index </span><span style=\"color: #008080; text-decoration-color: #008080; font-weight: bold\">0</span><span style=\"color: #800000; text-decoration-color: #800000\">, mode index </span><span style=\"color: #008080; text-decoration-color: #008080; font-weight: bold\">14</span><span style=\"color: #800000; text-decoration-color: #800000\"> does not   </span>\n",
              "<span style=\"color: #7fbfbf; text-decoration-color: #7fbfbf\">             </span><span style=\"color: #800000; text-decoration-color: #800000\">decay at the plane boundaries.                                     </span>\n",
              "</pre>\n"
            ]
          },
          "metadata": {}
        },
        {
          "output_type": "display_data",
          "data": {
            "text/plain": [
              "\u001b[2;36m            \u001b[0m\u001b[2;36m \u001b[0m\u001b[31mWARNING: Mode field at frequency index \u001b[0m\u001b[1;36m0\u001b[0m\u001b[31m, mode index \u001b[0m\u001b[1;36m15\u001b[0m\u001b[31m does not   \u001b[0m\n",
              "\u001b[2;36m             \u001b[0m\u001b[31mdecay at the plane boundaries.                                     \u001b[0m\n"
            ],
            "text/html": [
              "<pre style=\"white-space:pre;overflow-x:auto;line-height:normal;font-family:Menlo,'DejaVu Sans Mono',consolas,'Courier New',monospace\"><span style=\"color: #7fbfbf; text-decoration-color: #7fbfbf\">             </span><span style=\"color: #800000; text-decoration-color: #800000\">WARNING: Mode field at frequency index </span><span style=\"color: #008080; text-decoration-color: #008080; font-weight: bold\">0</span><span style=\"color: #800000; text-decoration-color: #800000\">, mode index </span><span style=\"color: #008080; text-decoration-color: #008080; font-weight: bold\">15</span><span style=\"color: #800000; text-decoration-color: #800000\"> does not   </span>\n",
              "<span style=\"color: #7fbfbf; text-decoration-color: #7fbfbf\">             </span><span style=\"color: #800000; text-decoration-color: #800000\">decay at the plane boundaries.                                     </span>\n",
              "</pre>\n"
            ]
          },
          "metadata": {}
        },
        {
          "output_type": "display_data",
          "data": {
            "text/plain": [
              "\u001b[2;36m            \u001b[0m\u001b[2;36m \u001b[0m\u001b[31mWARNING: Mode field at frequency index \u001b[0m\u001b[1;36m0\u001b[0m\u001b[31m, mode index \u001b[0m\u001b[1;36m16\u001b[0m\u001b[31m does not   \u001b[0m\n",
              "\u001b[2;36m             \u001b[0m\u001b[31mdecay at the plane boundaries.                                     \u001b[0m\n"
            ],
            "text/html": [
              "<pre style=\"white-space:pre;overflow-x:auto;line-height:normal;font-family:Menlo,'DejaVu Sans Mono',consolas,'Courier New',monospace\"><span style=\"color: #7fbfbf; text-decoration-color: #7fbfbf\">             </span><span style=\"color: #800000; text-decoration-color: #800000\">WARNING: Mode field at frequency index </span><span style=\"color: #008080; text-decoration-color: #008080; font-weight: bold\">0</span><span style=\"color: #800000; text-decoration-color: #800000\">, mode index </span><span style=\"color: #008080; text-decoration-color: #008080; font-weight: bold\">16</span><span style=\"color: #800000; text-decoration-color: #800000\"> does not   </span>\n",
              "<span style=\"color: #7fbfbf; text-decoration-color: #7fbfbf\">             </span><span style=\"color: #800000; text-decoration-color: #800000\">decay at the plane boundaries.                                     </span>\n",
              "</pre>\n"
            ]
          },
          "metadata": {}
        },
        {
          "output_type": "display_data",
          "data": {
            "text/plain": [
              "\u001b[2;36m            \u001b[0m\u001b[2;36m \u001b[0m\u001b[31mWARNING: Mode field at frequency index \u001b[0m\u001b[1;36m0\u001b[0m\u001b[31m, mode index \u001b[0m\u001b[1;36m17\u001b[0m\u001b[31m does not   \u001b[0m\n",
              "\u001b[2;36m             \u001b[0m\u001b[31mdecay at the plane boundaries.                                     \u001b[0m\n"
            ],
            "text/html": [
              "<pre style=\"white-space:pre;overflow-x:auto;line-height:normal;font-family:Menlo,'DejaVu Sans Mono',consolas,'Courier New',monospace\"><span style=\"color: #7fbfbf; text-decoration-color: #7fbfbf\">             </span><span style=\"color: #800000; text-decoration-color: #800000\">WARNING: Mode field at frequency index </span><span style=\"color: #008080; text-decoration-color: #008080; font-weight: bold\">0</span><span style=\"color: #800000; text-decoration-color: #800000\">, mode index </span><span style=\"color: #008080; text-decoration-color: #008080; font-weight: bold\">17</span><span style=\"color: #800000; text-decoration-color: #800000\"> does not   </span>\n",
              "<span style=\"color: #7fbfbf; text-decoration-color: #7fbfbf\">             </span><span style=\"color: #800000; text-decoration-color: #800000\">decay at the plane boundaries.                                     </span>\n",
              "</pre>\n"
            ]
          },
          "metadata": {}
        },
        {
          "output_type": "display_data",
          "data": {
            "text/plain": [
              "\u001b[2;36m            \u001b[0m\u001b[2;36m \u001b[0m\u001b[31mWARNING: Mode field at frequency index \u001b[0m\u001b[1;36m0\u001b[0m\u001b[31m, mode index \u001b[0m\u001b[1;36m18\u001b[0m\u001b[31m does not   \u001b[0m\n",
              "\u001b[2;36m             \u001b[0m\u001b[31mdecay at the plane boundaries.                                     \u001b[0m\n"
            ],
            "text/html": [
              "<pre style=\"white-space:pre;overflow-x:auto;line-height:normal;font-family:Menlo,'DejaVu Sans Mono',consolas,'Courier New',monospace\"><span style=\"color: #7fbfbf; text-decoration-color: #7fbfbf\">             </span><span style=\"color: #800000; text-decoration-color: #800000\">WARNING: Mode field at frequency index </span><span style=\"color: #008080; text-decoration-color: #008080; font-weight: bold\">0</span><span style=\"color: #800000; text-decoration-color: #800000\">, mode index </span><span style=\"color: #008080; text-decoration-color: #008080; font-weight: bold\">18</span><span style=\"color: #800000; text-decoration-color: #800000\"> does not   </span>\n",
              "<span style=\"color: #7fbfbf; text-decoration-color: #7fbfbf\">             </span><span style=\"color: #800000; text-decoration-color: #800000\">decay at the plane boundaries.                                     </span>\n",
              "</pre>\n"
            ]
          },
          "metadata": {}
        },
        {
          "output_type": "display_data",
          "data": {
            "text/plain": [
              "\u001b[2;36m            \u001b[0m\u001b[2;36m \u001b[0m\u001b[31mWARNING: Mode field at frequency index \u001b[0m\u001b[1;36m0\u001b[0m\u001b[31m, mode index \u001b[0m\u001b[1;36m19\u001b[0m\u001b[31m does not   \u001b[0m\n",
              "\u001b[2;36m             \u001b[0m\u001b[31mdecay at the plane boundaries.                                     \u001b[0m\n"
            ],
            "text/html": [
              "<pre style=\"white-space:pre;overflow-x:auto;line-height:normal;font-family:Menlo,'DejaVu Sans Mono',consolas,'Courier New',monospace\"><span style=\"color: #7fbfbf; text-decoration-color: #7fbfbf\">             </span><span style=\"color: #800000; text-decoration-color: #800000\">WARNING: Mode field at frequency index </span><span style=\"color: #008080; text-decoration-color: #008080; font-weight: bold\">0</span><span style=\"color: #800000; text-decoration-color: #800000\">, mode index </span><span style=\"color: #008080; text-decoration-color: #008080; font-weight: bold\">19</span><span style=\"color: #800000; text-decoration-color: #800000\"> does not   </span>\n",
              "<span style=\"color: #7fbfbf; text-decoration-color: #7fbfbf\">             </span><span style=\"color: #800000; text-decoration-color: #800000\">decay at the plane boundaries.                                     </span>\n",
              "</pre>\n"
            ]
          },
          "metadata": {}
        },
        {
          "output_type": "stream",
          "name": "stdout",
          "text": [
            "DOF:  8160\n"
          ]
        },
        {
          "output_type": "display_data",
          "data": {
            "text/plain": [
              "\u001b[2;36m16:45:54 UTC\u001b[0m\u001b[2;36m \u001b[0m\u001b[31mWARNING: Mode field at frequency index \u001b[0m\u001b[1;36m0\u001b[0m\u001b[31m, mode index \u001b[0m\u001b[1;36m6\u001b[0m\u001b[31m does not    \u001b[0m\n",
              "\u001b[2;36m             \u001b[0m\u001b[31mdecay at the plane boundaries.                                     \u001b[0m\n"
            ],
            "text/html": [
              "<pre style=\"white-space:pre;overflow-x:auto;line-height:normal;font-family:Menlo,'DejaVu Sans Mono',consolas,'Courier New',monospace\"><span style=\"color: #7fbfbf; text-decoration-color: #7fbfbf\">16:45:54 UTC </span><span style=\"color: #800000; text-decoration-color: #800000\">WARNING: Mode field at frequency index </span><span style=\"color: #008080; text-decoration-color: #008080; font-weight: bold\">0</span><span style=\"color: #800000; text-decoration-color: #800000\">, mode index </span><span style=\"color: #008080; text-decoration-color: #008080; font-weight: bold\">6</span><span style=\"color: #800000; text-decoration-color: #800000\"> does not    </span>\n",
              "<span style=\"color: #7fbfbf; text-decoration-color: #7fbfbf\">             </span><span style=\"color: #800000; text-decoration-color: #800000\">decay at the plane boundaries.                                     </span>\n",
              "</pre>\n"
            ]
          },
          "metadata": {}
        },
        {
          "output_type": "display_data",
          "data": {
            "text/plain": [
              "\u001b[2;36m            \u001b[0m\u001b[2;36m \u001b[0m\u001b[31mWARNING: Mode field at frequency index \u001b[0m\u001b[1;36m0\u001b[0m\u001b[31m, mode index \u001b[0m\u001b[1;36m7\u001b[0m\u001b[31m does not    \u001b[0m\n",
              "\u001b[2;36m             \u001b[0m\u001b[31mdecay at the plane boundaries.                                     \u001b[0m\n"
            ],
            "text/html": [
              "<pre style=\"white-space:pre;overflow-x:auto;line-height:normal;font-family:Menlo,'DejaVu Sans Mono',consolas,'Courier New',monospace\"><span style=\"color: #7fbfbf; text-decoration-color: #7fbfbf\">             </span><span style=\"color: #800000; text-decoration-color: #800000\">WARNING: Mode field at frequency index </span><span style=\"color: #008080; text-decoration-color: #008080; font-weight: bold\">0</span><span style=\"color: #800000; text-decoration-color: #800000\">, mode index </span><span style=\"color: #008080; text-decoration-color: #008080; font-weight: bold\">7</span><span style=\"color: #800000; text-decoration-color: #800000\"> does not    </span>\n",
              "<span style=\"color: #7fbfbf; text-decoration-color: #7fbfbf\">             </span><span style=\"color: #800000; text-decoration-color: #800000\">decay at the plane boundaries.                                     </span>\n",
              "</pre>\n"
            ]
          },
          "metadata": {}
        },
        {
          "output_type": "display_data",
          "data": {
            "text/plain": [
              "\u001b[2;36m            \u001b[0m\u001b[2;36m \u001b[0m\u001b[31mWARNING: Mode field at frequency index \u001b[0m\u001b[1;36m0\u001b[0m\u001b[31m, mode index \u001b[0m\u001b[1;36m8\u001b[0m\u001b[31m does not    \u001b[0m\n",
              "\u001b[2;36m             \u001b[0m\u001b[31mdecay at the plane boundaries.                                     \u001b[0m\n"
            ],
            "text/html": [
              "<pre style=\"white-space:pre;overflow-x:auto;line-height:normal;font-family:Menlo,'DejaVu Sans Mono',consolas,'Courier New',monospace\"><span style=\"color: #7fbfbf; text-decoration-color: #7fbfbf\">             </span><span style=\"color: #800000; text-decoration-color: #800000\">WARNING: Mode field at frequency index </span><span style=\"color: #008080; text-decoration-color: #008080; font-weight: bold\">0</span><span style=\"color: #800000; text-decoration-color: #800000\">, mode index </span><span style=\"color: #008080; text-decoration-color: #008080; font-weight: bold\">8</span><span style=\"color: #800000; text-decoration-color: #800000\"> does not    </span>\n",
              "<span style=\"color: #7fbfbf; text-decoration-color: #7fbfbf\">             </span><span style=\"color: #800000; text-decoration-color: #800000\">decay at the plane boundaries.                                     </span>\n",
              "</pre>\n"
            ]
          },
          "metadata": {}
        },
        {
          "output_type": "display_data",
          "data": {
            "text/plain": [
              "\u001b[2;36m            \u001b[0m\u001b[2;36m \u001b[0m\u001b[31mWARNING: Mode field at frequency index \u001b[0m\u001b[1;36m0\u001b[0m\u001b[31m, mode index \u001b[0m\u001b[1;36m9\u001b[0m\u001b[31m does not    \u001b[0m\n",
              "\u001b[2;36m             \u001b[0m\u001b[31mdecay at the plane boundaries.                                     \u001b[0m\n"
            ],
            "text/html": [
              "<pre style=\"white-space:pre;overflow-x:auto;line-height:normal;font-family:Menlo,'DejaVu Sans Mono',consolas,'Courier New',monospace\"><span style=\"color: #7fbfbf; text-decoration-color: #7fbfbf\">             </span><span style=\"color: #800000; text-decoration-color: #800000\">WARNING: Mode field at frequency index </span><span style=\"color: #008080; text-decoration-color: #008080; font-weight: bold\">0</span><span style=\"color: #800000; text-decoration-color: #800000\">, mode index </span><span style=\"color: #008080; text-decoration-color: #008080; font-weight: bold\">9</span><span style=\"color: #800000; text-decoration-color: #800000\"> does not    </span>\n",
              "<span style=\"color: #7fbfbf; text-decoration-color: #7fbfbf\">             </span><span style=\"color: #800000; text-decoration-color: #800000\">decay at the plane boundaries.                                     </span>\n",
              "</pre>\n"
            ]
          },
          "metadata": {}
        },
        {
          "output_type": "display_data",
          "data": {
            "text/plain": [
              "\u001b[2;36m16:45:55 UTC\u001b[0m\u001b[2;36m \u001b[0m\u001b[31mWARNING: Mode field at frequency index \u001b[0m\u001b[1;36m0\u001b[0m\u001b[31m, mode index \u001b[0m\u001b[1;36m10\u001b[0m\u001b[31m does not   \u001b[0m\n",
              "\u001b[2;36m             \u001b[0m\u001b[31mdecay at the plane boundaries.                                     \u001b[0m\n"
            ],
            "text/html": [
              "<pre style=\"white-space:pre;overflow-x:auto;line-height:normal;font-family:Menlo,'DejaVu Sans Mono',consolas,'Courier New',monospace\"><span style=\"color: #7fbfbf; text-decoration-color: #7fbfbf\">16:45:55 UTC </span><span style=\"color: #800000; text-decoration-color: #800000\">WARNING: Mode field at frequency index </span><span style=\"color: #008080; text-decoration-color: #008080; font-weight: bold\">0</span><span style=\"color: #800000; text-decoration-color: #800000\">, mode index </span><span style=\"color: #008080; text-decoration-color: #008080; font-weight: bold\">10</span><span style=\"color: #800000; text-decoration-color: #800000\"> does not   </span>\n",
              "<span style=\"color: #7fbfbf; text-decoration-color: #7fbfbf\">             </span><span style=\"color: #800000; text-decoration-color: #800000\">decay at the plane boundaries.                                     </span>\n",
              "</pre>\n"
            ]
          },
          "metadata": {}
        },
        {
          "output_type": "display_data",
          "data": {
            "text/plain": [
              "\u001b[2;36m            \u001b[0m\u001b[2;36m \u001b[0m\u001b[31mWARNING: Mode field at frequency index \u001b[0m\u001b[1;36m0\u001b[0m\u001b[31m, mode index \u001b[0m\u001b[1;36m11\u001b[0m\u001b[31m does not   \u001b[0m\n",
              "\u001b[2;36m             \u001b[0m\u001b[31mdecay at the plane boundaries.                                     \u001b[0m\n"
            ],
            "text/html": [
              "<pre style=\"white-space:pre;overflow-x:auto;line-height:normal;font-family:Menlo,'DejaVu Sans Mono',consolas,'Courier New',monospace\"><span style=\"color: #7fbfbf; text-decoration-color: #7fbfbf\">             </span><span style=\"color: #800000; text-decoration-color: #800000\">WARNING: Mode field at frequency index </span><span style=\"color: #008080; text-decoration-color: #008080; font-weight: bold\">0</span><span style=\"color: #800000; text-decoration-color: #800000\">, mode index </span><span style=\"color: #008080; text-decoration-color: #008080; font-weight: bold\">11</span><span style=\"color: #800000; text-decoration-color: #800000\"> does not   </span>\n",
              "<span style=\"color: #7fbfbf; text-decoration-color: #7fbfbf\">             </span><span style=\"color: #800000; text-decoration-color: #800000\">decay at the plane boundaries.                                     </span>\n",
              "</pre>\n"
            ]
          },
          "metadata": {}
        },
        {
          "output_type": "display_data",
          "data": {
            "text/plain": [
              "\u001b[2;36m            \u001b[0m\u001b[2;36m \u001b[0m\u001b[31mWARNING: Mode field at frequency index \u001b[0m\u001b[1;36m0\u001b[0m\u001b[31m, mode index \u001b[0m\u001b[1;36m12\u001b[0m\u001b[31m does not   \u001b[0m\n",
              "\u001b[2;36m             \u001b[0m\u001b[31mdecay at the plane boundaries.                                     \u001b[0m\n"
            ],
            "text/html": [
              "<pre style=\"white-space:pre;overflow-x:auto;line-height:normal;font-family:Menlo,'DejaVu Sans Mono',consolas,'Courier New',monospace\"><span style=\"color: #7fbfbf; text-decoration-color: #7fbfbf\">             </span><span style=\"color: #800000; text-decoration-color: #800000\">WARNING: Mode field at frequency index </span><span style=\"color: #008080; text-decoration-color: #008080; font-weight: bold\">0</span><span style=\"color: #800000; text-decoration-color: #800000\">, mode index </span><span style=\"color: #008080; text-decoration-color: #008080; font-weight: bold\">12</span><span style=\"color: #800000; text-decoration-color: #800000\"> does not   </span>\n",
              "<span style=\"color: #7fbfbf; text-decoration-color: #7fbfbf\">             </span><span style=\"color: #800000; text-decoration-color: #800000\">decay at the plane boundaries.                                     </span>\n",
              "</pre>\n"
            ]
          },
          "metadata": {}
        },
        {
          "output_type": "display_data",
          "data": {
            "text/plain": [
              "\u001b[2;36m            \u001b[0m\u001b[2;36m \u001b[0m\u001b[31mWARNING: Mode field at frequency index \u001b[0m\u001b[1;36m0\u001b[0m\u001b[31m, mode index \u001b[0m\u001b[1;36m13\u001b[0m\u001b[31m does not   \u001b[0m\n",
              "\u001b[2;36m             \u001b[0m\u001b[31mdecay at the plane boundaries.                                     \u001b[0m\n"
            ],
            "text/html": [
              "<pre style=\"white-space:pre;overflow-x:auto;line-height:normal;font-family:Menlo,'DejaVu Sans Mono',consolas,'Courier New',monospace\"><span style=\"color: #7fbfbf; text-decoration-color: #7fbfbf\">             </span><span style=\"color: #800000; text-decoration-color: #800000\">WARNING: Mode field at frequency index </span><span style=\"color: #008080; text-decoration-color: #008080; font-weight: bold\">0</span><span style=\"color: #800000; text-decoration-color: #800000\">, mode index </span><span style=\"color: #008080; text-decoration-color: #008080; font-weight: bold\">13</span><span style=\"color: #800000; text-decoration-color: #800000\"> does not   </span>\n",
              "<span style=\"color: #7fbfbf; text-decoration-color: #7fbfbf\">             </span><span style=\"color: #800000; text-decoration-color: #800000\">decay at the plane boundaries.                                     </span>\n",
              "</pre>\n"
            ]
          },
          "metadata": {}
        },
        {
          "output_type": "display_data",
          "data": {
            "text/plain": [
              "\u001b[2;36m            \u001b[0m\u001b[2;36m \u001b[0m\u001b[31mWARNING: Mode field at frequency index \u001b[0m\u001b[1;36m0\u001b[0m\u001b[31m, mode index \u001b[0m\u001b[1;36m14\u001b[0m\u001b[31m does not   \u001b[0m\n",
              "\u001b[2;36m             \u001b[0m\u001b[31mdecay at the plane boundaries.                                     \u001b[0m\n"
            ],
            "text/html": [
              "<pre style=\"white-space:pre;overflow-x:auto;line-height:normal;font-family:Menlo,'DejaVu Sans Mono',consolas,'Courier New',monospace\"><span style=\"color: #7fbfbf; text-decoration-color: #7fbfbf\">             </span><span style=\"color: #800000; text-decoration-color: #800000\">WARNING: Mode field at frequency index </span><span style=\"color: #008080; text-decoration-color: #008080; font-weight: bold\">0</span><span style=\"color: #800000; text-decoration-color: #800000\">, mode index </span><span style=\"color: #008080; text-decoration-color: #008080; font-weight: bold\">14</span><span style=\"color: #800000; text-decoration-color: #800000\"> does not   </span>\n",
              "<span style=\"color: #7fbfbf; text-decoration-color: #7fbfbf\">             </span><span style=\"color: #800000; text-decoration-color: #800000\">decay at the plane boundaries.                                     </span>\n",
              "</pre>\n"
            ]
          },
          "metadata": {}
        },
        {
          "output_type": "display_data",
          "data": {
            "text/plain": [
              "\u001b[2;36m            \u001b[0m\u001b[2;36m \u001b[0m\u001b[31mWARNING: Mode field at frequency index \u001b[0m\u001b[1;36m0\u001b[0m\u001b[31m, mode index \u001b[0m\u001b[1;36m15\u001b[0m\u001b[31m does not   \u001b[0m\n",
              "\u001b[2;36m             \u001b[0m\u001b[31mdecay at the plane boundaries.                                     \u001b[0m\n"
            ],
            "text/html": [
              "<pre style=\"white-space:pre;overflow-x:auto;line-height:normal;font-family:Menlo,'DejaVu Sans Mono',consolas,'Courier New',monospace\"><span style=\"color: #7fbfbf; text-decoration-color: #7fbfbf\">             </span><span style=\"color: #800000; text-decoration-color: #800000\">WARNING: Mode field at frequency index </span><span style=\"color: #008080; text-decoration-color: #008080; font-weight: bold\">0</span><span style=\"color: #800000; text-decoration-color: #800000\">, mode index </span><span style=\"color: #008080; text-decoration-color: #008080; font-weight: bold\">15</span><span style=\"color: #800000; text-decoration-color: #800000\"> does not   </span>\n",
              "<span style=\"color: #7fbfbf; text-decoration-color: #7fbfbf\">             </span><span style=\"color: #800000; text-decoration-color: #800000\">decay at the plane boundaries.                                     </span>\n",
              "</pre>\n"
            ]
          },
          "metadata": {}
        },
        {
          "output_type": "display_data",
          "data": {
            "text/plain": [
              "\u001b[2;36m            \u001b[0m\u001b[2;36m \u001b[0m\u001b[31mWARNING: Mode field at frequency index \u001b[0m\u001b[1;36m0\u001b[0m\u001b[31m, mode index \u001b[0m\u001b[1;36m16\u001b[0m\u001b[31m does not   \u001b[0m\n",
              "\u001b[2;36m             \u001b[0m\u001b[31mdecay at the plane boundaries.                                     \u001b[0m\n"
            ],
            "text/html": [
              "<pre style=\"white-space:pre;overflow-x:auto;line-height:normal;font-family:Menlo,'DejaVu Sans Mono',consolas,'Courier New',monospace\"><span style=\"color: #7fbfbf; text-decoration-color: #7fbfbf\">             </span><span style=\"color: #800000; text-decoration-color: #800000\">WARNING: Mode field at frequency index </span><span style=\"color: #008080; text-decoration-color: #008080; font-weight: bold\">0</span><span style=\"color: #800000; text-decoration-color: #800000\">, mode index </span><span style=\"color: #008080; text-decoration-color: #008080; font-weight: bold\">16</span><span style=\"color: #800000; text-decoration-color: #800000\"> does not   </span>\n",
              "<span style=\"color: #7fbfbf; text-decoration-color: #7fbfbf\">             </span><span style=\"color: #800000; text-decoration-color: #800000\">decay at the plane boundaries.                                     </span>\n",
              "</pre>\n"
            ]
          },
          "metadata": {}
        },
        {
          "output_type": "display_data",
          "data": {
            "text/plain": [
              "\u001b[2;36m            \u001b[0m\u001b[2;36m \u001b[0m\u001b[31mWARNING: Mode field at frequency index \u001b[0m\u001b[1;36m0\u001b[0m\u001b[31m, mode index \u001b[0m\u001b[1;36m17\u001b[0m\u001b[31m does not   \u001b[0m\n",
              "\u001b[2;36m             \u001b[0m\u001b[31mdecay at the plane boundaries.                                     \u001b[0m\n"
            ],
            "text/html": [
              "<pre style=\"white-space:pre;overflow-x:auto;line-height:normal;font-family:Menlo,'DejaVu Sans Mono',consolas,'Courier New',monospace\"><span style=\"color: #7fbfbf; text-decoration-color: #7fbfbf\">             </span><span style=\"color: #800000; text-decoration-color: #800000\">WARNING: Mode field at frequency index </span><span style=\"color: #008080; text-decoration-color: #008080; font-weight: bold\">0</span><span style=\"color: #800000; text-decoration-color: #800000\">, mode index </span><span style=\"color: #008080; text-decoration-color: #008080; font-weight: bold\">17</span><span style=\"color: #800000; text-decoration-color: #800000\"> does not   </span>\n",
              "<span style=\"color: #7fbfbf; text-decoration-color: #7fbfbf\">             </span><span style=\"color: #800000; text-decoration-color: #800000\">decay at the plane boundaries.                                     </span>\n",
              "</pre>\n"
            ]
          },
          "metadata": {}
        },
        {
          "output_type": "display_data",
          "data": {
            "text/plain": [
              "\u001b[2;36m            \u001b[0m\u001b[2;36m \u001b[0m\u001b[31mWARNING: Mode field at frequency index \u001b[0m\u001b[1;36m0\u001b[0m\u001b[31m, mode index \u001b[0m\u001b[1;36m18\u001b[0m\u001b[31m does not   \u001b[0m\n",
              "\u001b[2;36m             \u001b[0m\u001b[31mdecay at the plane boundaries.                                     \u001b[0m\n"
            ],
            "text/html": [
              "<pre style=\"white-space:pre;overflow-x:auto;line-height:normal;font-family:Menlo,'DejaVu Sans Mono',consolas,'Courier New',monospace\"><span style=\"color: #7fbfbf; text-decoration-color: #7fbfbf\">             </span><span style=\"color: #800000; text-decoration-color: #800000\">WARNING: Mode field at frequency index </span><span style=\"color: #008080; text-decoration-color: #008080; font-weight: bold\">0</span><span style=\"color: #800000; text-decoration-color: #800000\">, mode index </span><span style=\"color: #008080; text-decoration-color: #008080; font-weight: bold\">18</span><span style=\"color: #800000; text-decoration-color: #800000\"> does not   </span>\n",
              "<span style=\"color: #7fbfbf; text-decoration-color: #7fbfbf\">             </span><span style=\"color: #800000; text-decoration-color: #800000\">decay at the plane boundaries.                                     </span>\n",
              "</pre>\n"
            ]
          },
          "metadata": {}
        },
        {
          "output_type": "display_data",
          "data": {
            "text/plain": [
              "\u001b[2;36m            \u001b[0m\u001b[2;36m \u001b[0m\u001b[31mWARNING: Mode field at frequency index \u001b[0m\u001b[1;36m0\u001b[0m\u001b[31m, mode index \u001b[0m\u001b[1;36m19\u001b[0m\u001b[31m does not   \u001b[0m\n",
              "\u001b[2;36m             \u001b[0m\u001b[31mdecay at the plane boundaries.                                     \u001b[0m\n"
            ],
            "text/html": [
              "<pre style=\"white-space:pre;overflow-x:auto;line-height:normal;font-family:Menlo,'DejaVu Sans Mono',consolas,'Courier New',monospace\"><span style=\"color: #7fbfbf; text-decoration-color: #7fbfbf\">             </span><span style=\"color: #800000; text-decoration-color: #800000\">WARNING: Mode field at frequency index </span><span style=\"color: #008080; text-decoration-color: #008080; font-weight: bold\">0</span><span style=\"color: #800000; text-decoration-color: #800000\">, mode index </span><span style=\"color: #008080; text-decoration-color: #008080; font-weight: bold\">19</span><span style=\"color: #800000; text-decoration-color: #800000\"> does not   </span>\n",
              "<span style=\"color: #7fbfbf; text-decoration-color: #7fbfbf\">             </span><span style=\"color: #800000; text-decoration-color: #800000\">decay at the plane boundaries.                                     </span>\n",
              "</pre>\n"
            ]
          },
          "metadata": {}
        },
        {
          "output_type": "stream",
          "name": "stdout",
          "text": [
            "DOF:  17978\n"
          ]
        },
        {
          "output_type": "display_data",
          "data": {
            "text/plain": [
              "\u001b[2;36m16:45:58 UTC\u001b[0m\u001b[2;36m \u001b[0m\u001b[31mWARNING: Mode field at frequency index \u001b[0m\u001b[1;36m0\u001b[0m\u001b[31m, mode index \u001b[0m\u001b[1;36m6\u001b[0m\u001b[31m does not    \u001b[0m\n",
              "\u001b[2;36m             \u001b[0m\u001b[31mdecay at the plane boundaries.                                     \u001b[0m\n"
            ],
            "text/html": [
              "<pre style=\"white-space:pre;overflow-x:auto;line-height:normal;font-family:Menlo,'DejaVu Sans Mono',consolas,'Courier New',monospace\"><span style=\"color: #7fbfbf; text-decoration-color: #7fbfbf\">16:45:58 UTC </span><span style=\"color: #800000; text-decoration-color: #800000\">WARNING: Mode field at frequency index </span><span style=\"color: #008080; text-decoration-color: #008080; font-weight: bold\">0</span><span style=\"color: #800000; text-decoration-color: #800000\">, mode index </span><span style=\"color: #008080; text-decoration-color: #008080; font-weight: bold\">6</span><span style=\"color: #800000; text-decoration-color: #800000\"> does not    </span>\n",
              "<span style=\"color: #7fbfbf; text-decoration-color: #7fbfbf\">             </span><span style=\"color: #800000; text-decoration-color: #800000\">decay at the plane boundaries.                                     </span>\n",
              "</pre>\n"
            ]
          },
          "metadata": {}
        },
        {
          "output_type": "display_data",
          "data": {
            "text/plain": [
              "\u001b[2;36m            \u001b[0m\u001b[2;36m \u001b[0m\u001b[31mWARNING: Mode field at frequency index \u001b[0m\u001b[1;36m0\u001b[0m\u001b[31m, mode index \u001b[0m\u001b[1;36m7\u001b[0m\u001b[31m does not    \u001b[0m\n",
              "\u001b[2;36m             \u001b[0m\u001b[31mdecay at the plane boundaries.                                     \u001b[0m\n"
            ],
            "text/html": [
              "<pre style=\"white-space:pre;overflow-x:auto;line-height:normal;font-family:Menlo,'DejaVu Sans Mono',consolas,'Courier New',monospace\"><span style=\"color: #7fbfbf; text-decoration-color: #7fbfbf\">             </span><span style=\"color: #800000; text-decoration-color: #800000\">WARNING: Mode field at frequency index </span><span style=\"color: #008080; text-decoration-color: #008080; font-weight: bold\">0</span><span style=\"color: #800000; text-decoration-color: #800000\">, mode index </span><span style=\"color: #008080; text-decoration-color: #008080; font-weight: bold\">7</span><span style=\"color: #800000; text-decoration-color: #800000\"> does not    </span>\n",
              "<span style=\"color: #7fbfbf; text-decoration-color: #7fbfbf\">             </span><span style=\"color: #800000; text-decoration-color: #800000\">decay at the plane boundaries.                                     </span>\n",
              "</pre>\n"
            ]
          },
          "metadata": {}
        },
        {
          "output_type": "display_data",
          "data": {
            "text/plain": [
              "\u001b[2;36m            \u001b[0m\u001b[2;36m \u001b[0m\u001b[31mWARNING: Mode field at frequency index \u001b[0m\u001b[1;36m0\u001b[0m\u001b[31m, mode index \u001b[0m\u001b[1;36m8\u001b[0m\u001b[31m does not    \u001b[0m\n",
              "\u001b[2;36m             \u001b[0m\u001b[31mdecay at the plane boundaries.                                     \u001b[0m\n"
            ],
            "text/html": [
              "<pre style=\"white-space:pre;overflow-x:auto;line-height:normal;font-family:Menlo,'DejaVu Sans Mono',consolas,'Courier New',monospace\"><span style=\"color: #7fbfbf; text-decoration-color: #7fbfbf\">             </span><span style=\"color: #800000; text-decoration-color: #800000\">WARNING: Mode field at frequency index </span><span style=\"color: #008080; text-decoration-color: #008080; font-weight: bold\">0</span><span style=\"color: #800000; text-decoration-color: #800000\">, mode index </span><span style=\"color: #008080; text-decoration-color: #008080; font-weight: bold\">8</span><span style=\"color: #800000; text-decoration-color: #800000\"> does not    </span>\n",
              "<span style=\"color: #7fbfbf; text-decoration-color: #7fbfbf\">             </span><span style=\"color: #800000; text-decoration-color: #800000\">decay at the plane boundaries.                                     </span>\n",
              "</pre>\n"
            ]
          },
          "metadata": {}
        },
        {
          "output_type": "display_data",
          "data": {
            "text/plain": [
              "\u001b[2;36m            \u001b[0m\u001b[2;36m \u001b[0m\u001b[31mWARNING: Mode field at frequency index \u001b[0m\u001b[1;36m0\u001b[0m\u001b[31m, mode index \u001b[0m\u001b[1;36m9\u001b[0m\u001b[31m does not    \u001b[0m\n",
              "\u001b[2;36m             \u001b[0m\u001b[31mdecay at the plane boundaries.                                     \u001b[0m\n"
            ],
            "text/html": [
              "<pre style=\"white-space:pre;overflow-x:auto;line-height:normal;font-family:Menlo,'DejaVu Sans Mono',consolas,'Courier New',monospace\"><span style=\"color: #7fbfbf; text-decoration-color: #7fbfbf\">             </span><span style=\"color: #800000; text-decoration-color: #800000\">WARNING: Mode field at frequency index </span><span style=\"color: #008080; text-decoration-color: #008080; font-weight: bold\">0</span><span style=\"color: #800000; text-decoration-color: #800000\">, mode index </span><span style=\"color: #008080; text-decoration-color: #008080; font-weight: bold\">9</span><span style=\"color: #800000; text-decoration-color: #800000\"> does not    </span>\n",
              "<span style=\"color: #7fbfbf; text-decoration-color: #7fbfbf\">             </span><span style=\"color: #800000; text-decoration-color: #800000\">decay at the plane boundaries.                                     </span>\n",
              "</pre>\n"
            ]
          },
          "metadata": {}
        },
        {
          "output_type": "display_data",
          "data": {
            "text/plain": [
              "\u001b[2;36m            \u001b[0m\u001b[2;36m \u001b[0m\u001b[31mWARNING: Mode field at frequency index \u001b[0m\u001b[1;36m0\u001b[0m\u001b[31m, mode index \u001b[0m\u001b[1;36m10\u001b[0m\u001b[31m does not   \u001b[0m\n",
              "\u001b[2;36m             \u001b[0m\u001b[31mdecay at the plane boundaries.                                     \u001b[0m\n"
            ],
            "text/html": [
              "<pre style=\"white-space:pre;overflow-x:auto;line-height:normal;font-family:Menlo,'DejaVu Sans Mono',consolas,'Courier New',monospace\"><span style=\"color: #7fbfbf; text-decoration-color: #7fbfbf\">             </span><span style=\"color: #800000; text-decoration-color: #800000\">WARNING: Mode field at frequency index </span><span style=\"color: #008080; text-decoration-color: #008080; font-weight: bold\">0</span><span style=\"color: #800000; text-decoration-color: #800000\">, mode index </span><span style=\"color: #008080; text-decoration-color: #008080; font-weight: bold\">10</span><span style=\"color: #800000; text-decoration-color: #800000\"> does not   </span>\n",
              "<span style=\"color: #7fbfbf; text-decoration-color: #7fbfbf\">             </span><span style=\"color: #800000; text-decoration-color: #800000\">decay at the plane boundaries.                                     </span>\n",
              "</pre>\n"
            ]
          },
          "metadata": {}
        },
        {
          "output_type": "display_data",
          "data": {
            "text/plain": [
              "\u001b[2;36m            \u001b[0m\u001b[2;36m \u001b[0m\u001b[31mWARNING: Mode field at frequency index \u001b[0m\u001b[1;36m0\u001b[0m\u001b[31m, mode index \u001b[0m\u001b[1;36m11\u001b[0m\u001b[31m does not   \u001b[0m\n",
              "\u001b[2;36m             \u001b[0m\u001b[31mdecay at the plane boundaries.                                     \u001b[0m\n"
            ],
            "text/html": [
              "<pre style=\"white-space:pre;overflow-x:auto;line-height:normal;font-family:Menlo,'DejaVu Sans Mono',consolas,'Courier New',monospace\"><span style=\"color: #7fbfbf; text-decoration-color: #7fbfbf\">             </span><span style=\"color: #800000; text-decoration-color: #800000\">WARNING: Mode field at frequency index </span><span style=\"color: #008080; text-decoration-color: #008080; font-weight: bold\">0</span><span style=\"color: #800000; text-decoration-color: #800000\">, mode index </span><span style=\"color: #008080; text-decoration-color: #008080; font-weight: bold\">11</span><span style=\"color: #800000; text-decoration-color: #800000\"> does not   </span>\n",
              "<span style=\"color: #7fbfbf; text-decoration-color: #7fbfbf\">             </span><span style=\"color: #800000; text-decoration-color: #800000\">decay at the plane boundaries.                                     </span>\n",
              "</pre>\n"
            ]
          },
          "metadata": {}
        },
        {
          "output_type": "display_data",
          "data": {
            "text/plain": [
              "\u001b[2;36m            \u001b[0m\u001b[2;36m \u001b[0m\u001b[31mWARNING: Mode field at frequency index \u001b[0m\u001b[1;36m0\u001b[0m\u001b[31m, mode index \u001b[0m\u001b[1;36m12\u001b[0m\u001b[31m does not   \u001b[0m\n",
              "\u001b[2;36m             \u001b[0m\u001b[31mdecay at the plane boundaries.                                     \u001b[0m\n"
            ],
            "text/html": [
              "<pre style=\"white-space:pre;overflow-x:auto;line-height:normal;font-family:Menlo,'DejaVu Sans Mono',consolas,'Courier New',monospace\"><span style=\"color: #7fbfbf; text-decoration-color: #7fbfbf\">             </span><span style=\"color: #800000; text-decoration-color: #800000\">WARNING: Mode field at frequency index </span><span style=\"color: #008080; text-decoration-color: #008080; font-weight: bold\">0</span><span style=\"color: #800000; text-decoration-color: #800000\">, mode index </span><span style=\"color: #008080; text-decoration-color: #008080; font-weight: bold\">12</span><span style=\"color: #800000; text-decoration-color: #800000\"> does not   </span>\n",
              "<span style=\"color: #7fbfbf; text-decoration-color: #7fbfbf\">             </span><span style=\"color: #800000; text-decoration-color: #800000\">decay at the plane boundaries.                                     </span>\n",
              "</pre>\n"
            ]
          },
          "metadata": {}
        },
        {
          "output_type": "display_data",
          "data": {
            "text/plain": [
              "\u001b[2;36m            \u001b[0m\u001b[2;36m \u001b[0m\u001b[31mWARNING: Mode field at frequency index \u001b[0m\u001b[1;36m0\u001b[0m\u001b[31m, mode index \u001b[0m\u001b[1;36m13\u001b[0m\u001b[31m does not   \u001b[0m\n",
              "\u001b[2;36m             \u001b[0m\u001b[31mdecay at the plane boundaries.                                     \u001b[0m\n"
            ],
            "text/html": [
              "<pre style=\"white-space:pre;overflow-x:auto;line-height:normal;font-family:Menlo,'DejaVu Sans Mono',consolas,'Courier New',monospace\"><span style=\"color: #7fbfbf; text-decoration-color: #7fbfbf\">             </span><span style=\"color: #800000; text-decoration-color: #800000\">WARNING: Mode field at frequency index </span><span style=\"color: #008080; text-decoration-color: #008080; font-weight: bold\">0</span><span style=\"color: #800000; text-decoration-color: #800000\">, mode index </span><span style=\"color: #008080; text-decoration-color: #008080; font-weight: bold\">13</span><span style=\"color: #800000; text-decoration-color: #800000\"> does not   </span>\n",
              "<span style=\"color: #7fbfbf; text-decoration-color: #7fbfbf\">             </span><span style=\"color: #800000; text-decoration-color: #800000\">decay at the plane boundaries.                                     </span>\n",
              "</pre>\n"
            ]
          },
          "metadata": {}
        },
        {
          "output_type": "display_data",
          "data": {
            "text/plain": [
              "\u001b[2;36m            \u001b[0m\u001b[2;36m \u001b[0m\u001b[31mWARNING: Mode field at frequency index \u001b[0m\u001b[1;36m0\u001b[0m\u001b[31m, mode index \u001b[0m\u001b[1;36m14\u001b[0m\u001b[31m does not   \u001b[0m\n",
              "\u001b[2;36m             \u001b[0m\u001b[31mdecay at the plane boundaries.                                     \u001b[0m\n"
            ],
            "text/html": [
              "<pre style=\"white-space:pre;overflow-x:auto;line-height:normal;font-family:Menlo,'DejaVu Sans Mono',consolas,'Courier New',monospace\"><span style=\"color: #7fbfbf; text-decoration-color: #7fbfbf\">             </span><span style=\"color: #800000; text-decoration-color: #800000\">WARNING: Mode field at frequency index </span><span style=\"color: #008080; text-decoration-color: #008080; font-weight: bold\">0</span><span style=\"color: #800000; text-decoration-color: #800000\">, mode index </span><span style=\"color: #008080; text-decoration-color: #008080; font-weight: bold\">14</span><span style=\"color: #800000; text-decoration-color: #800000\"> does not   </span>\n",
              "<span style=\"color: #7fbfbf; text-decoration-color: #7fbfbf\">             </span><span style=\"color: #800000; text-decoration-color: #800000\">decay at the plane boundaries.                                     </span>\n",
              "</pre>\n"
            ]
          },
          "metadata": {}
        },
        {
          "output_type": "display_data",
          "data": {
            "text/plain": [
              "\u001b[2;36m            \u001b[0m\u001b[2;36m \u001b[0m\u001b[31mWARNING: Mode field at frequency index \u001b[0m\u001b[1;36m0\u001b[0m\u001b[31m, mode index \u001b[0m\u001b[1;36m15\u001b[0m\u001b[31m does not   \u001b[0m\n",
              "\u001b[2;36m             \u001b[0m\u001b[31mdecay at the plane boundaries.                                     \u001b[0m\n"
            ],
            "text/html": [
              "<pre style=\"white-space:pre;overflow-x:auto;line-height:normal;font-family:Menlo,'DejaVu Sans Mono',consolas,'Courier New',monospace\"><span style=\"color: #7fbfbf; text-decoration-color: #7fbfbf\">             </span><span style=\"color: #800000; text-decoration-color: #800000\">WARNING: Mode field at frequency index </span><span style=\"color: #008080; text-decoration-color: #008080; font-weight: bold\">0</span><span style=\"color: #800000; text-decoration-color: #800000\">, mode index </span><span style=\"color: #008080; text-decoration-color: #008080; font-weight: bold\">15</span><span style=\"color: #800000; text-decoration-color: #800000\"> does not   </span>\n",
              "<span style=\"color: #7fbfbf; text-decoration-color: #7fbfbf\">             </span><span style=\"color: #800000; text-decoration-color: #800000\">decay at the plane boundaries.                                     </span>\n",
              "</pre>\n"
            ]
          },
          "metadata": {}
        },
        {
          "output_type": "display_data",
          "data": {
            "text/plain": [
              "\u001b[2;36m            \u001b[0m\u001b[2;36m \u001b[0m\u001b[31mWARNING: Mode field at frequency index \u001b[0m\u001b[1;36m0\u001b[0m\u001b[31m, mode index \u001b[0m\u001b[1;36m16\u001b[0m\u001b[31m does not   \u001b[0m\n",
              "\u001b[2;36m             \u001b[0m\u001b[31mdecay at the plane boundaries.                                     \u001b[0m\n"
            ],
            "text/html": [
              "<pre style=\"white-space:pre;overflow-x:auto;line-height:normal;font-family:Menlo,'DejaVu Sans Mono',consolas,'Courier New',monospace\"><span style=\"color: #7fbfbf; text-decoration-color: #7fbfbf\">             </span><span style=\"color: #800000; text-decoration-color: #800000\">WARNING: Mode field at frequency index </span><span style=\"color: #008080; text-decoration-color: #008080; font-weight: bold\">0</span><span style=\"color: #800000; text-decoration-color: #800000\">, mode index </span><span style=\"color: #008080; text-decoration-color: #008080; font-weight: bold\">16</span><span style=\"color: #800000; text-decoration-color: #800000\"> does not   </span>\n",
              "<span style=\"color: #7fbfbf; text-decoration-color: #7fbfbf\">             </span><span style=\"color: #800000; text-decoration-color: #800000\">decay at the plane boundaries.                                     </span>\n",
              "</pre>\n"
            ]
          },
          "metadata": {}
        },
        {
          "output_type": "display_data",
          "data": {
            "text/plain": [
              "\u001b[2;36m            \u001b[0m\u001b[2;36m \u001b[0m\u001b[31mWARNING: Mode field at frequency index \u001b[0m\u001b[1;36m0\u001b[0m\u001b[31m, mode index \u001b[0m\u001b[1;36m17\u001b[0m\u001b[31m does not   \u001b[0m\n",
              "\u001b[2;36m             \u001b[0m\u001b[31mdecay at the plane boundaries.                                     \u001b[0m\n"
            ],
            "text/html": [
              "<pre style=\"white-space:pre;overflow-x:auto;line-height:normal;font-family:Menlo,'DejaVu Sans Mono',consolas,'Courier New',monospace\"><span style=\"color: #7fbfbf; text-decoration-color: #7fbfbf\">             </span><span style=\"color: #800000; text-decoration-color: #800000\">WARNING: Mode field at frequency index </span><span style=\"color: #008080; text-decoration-color: #008080; font-weight: bold\">0</span><span style=\"color: #800000; text-decoration-color: #800000\">, mode index </span><span style=\"color: #008080; text-decoration-color: #008080; font-weight: bold\">17</span><span style=\"color: #800000; text-decoration-color: #800000\"> does not   </span>\n",
              "<span style=\"color: #7fbfbf; text-decoration-color: #7fbfbf\">             </span><span style=\"color: #800000; text-decoration-color: #800000\">decay at the plane boundaries.                                     </span>\n",
              "</pre>\n"
            ]
          },
          "metadata": {}
        },
        {
          "output_type": "display_data",
          "data": {
            "text/plain": [
              "\u001b[2;36m            \u001b[0m\u001b[2;36m \u001b[0m\u001b[31mWARNING: Mode field at frequency index \u001b[0m\u001b[1;36m0\u001b[0m\u001b[31m, mode index \u001b[0m\u001b[1;36m18\u001b[0m\u001b[31m does not   \u001b[0m\n",
              "\u001b[2;36m             \u001b[0m\u001b[31mdecay at the plane boundaries.                                     \u001b[0m\n"
            ],
            "text/html": [
              "<pre style=\"white-space:pre;overflow-x:auto;line-height:normal;font-family:Menlo,'DejaVu Sans Mono',consolas,'Courier New',monospace\"><span style=\"color: #7fbfbf; text-decoration-color: #7fbfbf\">             </span><span style=\"color: #800000; text-decoration-color: #800000\">WARNING: Mode field at frequency index </span><span style=\"color: #008080; text-decoration-color: #008080; font-weight: bold\">0</span><span style=\"color: #800000; text-decoration-color: #800000\">, mode index </span><span style=\"color: #008080; text-decoration-color: #008080; font-weight: bold\">18</span><span style=\"color: #800000; text-decoration-color: #800000\"> does not   </span>\n",
              "<span style=\"color: #7fbfbf; text-decoration-color: #7fbfbf\">             </span><span style=\"color: #800000; text-decoration-color: #800000\">decay at the plane boundaries.                                     </span>\n",
              "</pre>\n"
            ]
          },
          "metadata": {}
        },
        {
          "output_type": "display_data",
          "data": {
            "text/plain": [
              "\u001b[2;36m            \u001b[0m\u001b[2;36m \u001b[0m\u001b[31mWARNING: Mode field at frequency index \u001b[0m\u001b[1;36m0\u001b[0m\u001b[31m, mode index \u001b[0m\u001b[1;36m19\u001b[0m\u001b[31m does not   \u001b[0m\n",
              "\u001b[2;36m             \u001b[0m\u001b[31mdecay at the plane boundaries.                                     \u001b[0m\n"
            ],
            "text/html": [
              "<pre style=\"white-space:pre;overflow-x:auto;line-height:normal;font-family:Menlo,'DejaVu Sans Mono',consolas,'Courier New',monospace\"><span style=\"color: #7fbfbf; text-decoration-color: #7fbfbf\">             </span><span style=\"color: #800000; text-decoration-color: #800000\">WARNING: Mode field at frequency index </span><span style=\"color: #008080; text-decoration-color: #008080; font-weight: bold\">0</span><span style=\"color: #800000; text-decoration-color: #800000\">, mode index </span><span style=\"color: #008080; text-decoration-color: #008080; font-weight: bold\">19</span><span style=\"color: #800000; text-decoration-color: #800000\"> does not   </span>\n",
              "<span style=\"color: #7fbfbf; text-decoration-color: #7fbfbf\">             </span><span style=\"color: #800000; text-decoration-color: #800000\">decay at the plane boundaries.                                     </span>\n",
              "</pre>\n"
            ]
          },
          "metadata": {}
        },
        {
          "output_type": "stream",
          "name": "stdout",
          "text": [
            "DOF:  31122\n"
          ]
        },
        {
          "output_type": "display_data",
          "data": {
            "text/plain": [
              "\u001b[2;36m16:46:02 UTC\u001b[0m\u001b[2;36m \u001b[0m\u001b[31mWARNING: Mode field at frequency index \u001b[0m\u001b[1;36m0\u001b[0m\u001b[31m, mode index \u001b[0m\u001b[1;36m6\u001b[0m\u001b[31m does not    \u001b[0m\n",
              "\u001b[2;36m             \u001b[0m\u001b[31mdecay at the plane boundaries.                                     \u001b[0m\n"
            ],
            "text/html": [
              "<pre style=\"white-space:pre;overflow-x:auto;line-height:normal;font-family:Menlo,'DejaVu Sans Mono',consolas,'Courier New',monospace\"><span style=\"color: #7fbfbf; text-decoration-color: #7fbfbf\">16:46:02 UTC </span><span style=\"color: #800000; text-decoration-color: #800000\">WARNING: Mode field at frequency index </span><span style=\"color: #008080; text-decoration-color: #008080; font-weight: bold\">0</span><span style=\"color: #800000; text-decoration-color: #800000\">, mode index </span><span style=\"color: #008080; text-decoration-color: #008080; font-weight: bold\">6</span><span style=\"color: #800000; text-decoration-color: #800000\"> does not    </span>\n",
              "<span style=\"color: #7fbfbf; text-decoration-color: #7fbfbf\">             </span><span style=\"color: #800000; text-decoration-color: #800000\">decay at the plane boundaries.                                     </span>\n",
              "</pre>\n"
            ]
          },
          "metadata": {}
        },
        {
          "output_type": "display_data",
          "data": {
            "text/plain": [
              "\u001b[2;36m16:46:03 UTC\u001b[0m\u001b[2;36m \u001b[0m\u001b[31mWARNING: Mode field at frequency index \u001b[0m\u001b[1;36m0\u001b[0m\u001b[31m, mode index \u001b[0m\u001b[1;36m7\u001b[0m\u001b[31m does not    \u001b[0m\n",
              "\u001b[2;36m             \u001b[0m\u001b[31mdecay at the plane boundaries.                                     \u001b[0m\n"
            ],
            "text/html": [
              "<pre style=\"white-space:pre;overflow-x:auto;line-height:normal;font-family:Menlo,'DejaVu Sans Mono',consolas,'Courier New',monospace\"><span style=\"color: #7fbfbf; text-decoration-color: #7fbfbf\">16:46:03 UTC </span><span style=\"color: #800000; text-decoration-color: #800000\">WARNING: Mode field at frequency index </span><span style=\"color: #008080; text-decoration-color: #008080; font-weight: bold\">0</span><span style=\"color: #800000; text-decoration-color: #800000\">, mode index </span><span style=\"color: #008080; text-decoration-color: #008080; font-weight: bold\">7</span><span style=\"color: #800000; text-decoration-color: #800000\"> does not    </span>\n",
              "<span style=\"color: #7fbfbf; text-decoration-color: #7fbfbf\">             </span><span style=\"color: #800000; text-decoration-color: #800000\">decay at the plane boundaries.                                     </span>\n",
              "</pre>\n"
            ]
          },
          "metadata": {}
        },
        {
          "output_type": "display_data",
          "data": {
            "text/plain": [
              "\u001b[2;36m            \u001b[0m\u001b[2;36m \u001b[0m\u001b[31mWARNING: Mode field at frequency index \u001b[0m\u001b[1;36m0\u001b[0m\u001b[31m, mode index \u001b[0m\u001b[1;36m8\u001b[0m\u001b[31m does not    \u001b[0m\n",
              "\u001b[2;36m             \u001b[0m\u001b[31mdecay at the plane boundaries.                                     \u001b[0m\n"
            ],
            "text/html": [
              "<pre style=\"white-space:pre;overflow-x:auto;line-height:normal;font-family:Menlo,'DejaVu Sans Mono',consolas,'Courier New',monospace\"><span style=\"color: #7fbfbf; text-decoration-color: #7fbfbf\">             </span><span style=\"color: #800000; text-decoration-color: #800000\">WARNING: Mode field at frequency index </span><span style=\"color: #008080; text-decoration-color: #008080; font-weight: bold\">0</span><span style=\"color: #800000; text-decoration-color: #800000\">, mode index </span><span style=\"color: #008080; text-decoration-color: #008080; font-weight: bold\">8</span><span style=\"color: #800000; text-decoration-color: #800000\"> does not    </span>\n",
              "<span style=\"color: #7fbfbf; text-decoration-color: #7fbfbf\">             </span><span style=\"color: #800000; text-decoration-color: #800000\">decay at the plane boundaries.                                     </span>\n",
              "</pre>\n"
            ]
          },
          "metadata": {}
        },
        {
          "output_type": "display_data",
          "data": {
            "text/plain": [
              "\u001b[2;36m            \u001b[0m\u001b[2;36m \u001b[0m\u001b[31mWARNING: Mode field at frequency index \u001b[0m\u001b[1;36m0\u001b[0m\u001b[31m, mode index \u001b[0m\u001b[1;36m9\u001b[0m\u001b[31m does not    \u001b[0m\n",
              "\u001b[2;36m             \u001b[0m\u001b[31mdecay at the plane boundaries.                                     \u001b[0m\n"
            ],
            "text/html": [
              "<pre style=\"white-space:pre;overflow-x:auto;line-height:normal;font-family:Menlo,'DejaVu Sans Mono',consolas,'Courier New',monospace\"><span style=\"color: #7fbfbf; text-decoration-color: #7fbfbf\">             </span><span style=\"color: #800000; text-decoration-color: #800000\">WARNING: Mode field at frequency index </span><span style=\"color: #008080; text-decoration-color: #008080; font-weight: bold\">0</span><span style=\"color: #800000; text-decoration-color: #800000\">, mode index </span><span style=\"color: #008080; text-decoration-color: #008080; font-weight: bold\">9</span><span style=\"color: #800000; text-decoration-color: #800000\"> does not    </span>\n",
              "<span style=\"color: #7fbfbf; text-decoration-color: #7fbfbf\">             </span><span style=\"color: #800000; text-decoration-color: #800000\">decay at the plane boundaries.                                     </span>\n",
              "</pre>\n"
            ]
          },
          "metadata": {}
        },
        {
          "output_type": "display_data",
          "data": {
            "text/plain": [
              "\u001b[2;36m            \u001b[0m\u001b[2;36m \u001b[0m\u001b[31mWARNING: Mode field at frequency index \u001b[0m\u001b[1;36m0\u001b[0m\u001b[31m, mode index \u001b[0m\u001b[1;36m10\u001b[0m\u001b[31m does not   \u001b[0m\n",
              "\u001b[2;36m             \u001b[0m\u001b[31mdecay at the plane boundaries.                                     \u001b[0m\n"
            ],
            "text/html": [
              "<pre style=\"white-space:pre;overflow-x:auto;line-height:normal;font-family:Menlo,'DejaVu Sans Mono',consolas,'Courier New',monospace\"><span style=\"color: #7fbfbf; text-decoration-color: #7fbfbf\">             </span><span style=\"color: #800000; text-decoration-color: #800000\">WARNING: Mode field at frequency index </span><span style=\"color: #008080; text-decoration-color: #008080; font-weight: bold\">0</span><span style=\"color: #800000; text-decoration-color: #800000\">, mode index </span><span style=\"color: #008080; text-decoration-color: #008080; font-weight: bold\">10</span><span style=\"color: #800000; text-decoration-color: #800000\"> does not   </span>\n",
              "<span style=\"color: #7fbfbf; text-decoration-color: #7fbfbf\">             </span><span style=\"color: #800000; text-decoration-color: #800000\">decay at the plane boundaries.                                     </span>\n",
              "</pre>\n"
            ]
          },
          "metadata": {}
        },
        {
          "output_type": "display_data",
          "data": {
            "text/plain": [
              "\u001b[2;36m            \u001b[0m\u001b[2;36m \u001b[0m\u001b[31mWARNING: Mode field at frequency index \u001b[0m\u001b[1;36m0\u001b[0m\u001b[31m, mode index \u001b[0m\u001b[1;36m11\u001b[0m\u001b[31m does not   \u001b[0m\n",
              "\u001b[2;36m             \u001b[0m\u001b[31mdecay at the plane boundaries.                                     \u001b[0m\n"
            ],
            "text/html": [
              "<pre style=\"white-space:pre;overflow-x:auto;line-height:normal;font-family:Menlo,'DejaVu Sans Mono',consolas,'Courier New',monospace\"><span style=\"color: #7fbfbf; text-decoration-color: #7fbfbf\">             </span><span style=\"color: #800000; text-decoration-color: #800000\">WARNING: Mode field at frequency index </span><span style=\"color: #008080; text-decoration-color: #008080; font-weight: bold\">0</span><span style=\"color: #800000; text-decoration-color: #800000\">, mode index </span><span style=\"color: #008080; text-decoration-color: #008080; font-weight: bold\">11</span><span style=\"color: #800000; text-decoration-color: #800000\"> does not   </span>\n",
              "<span style=\"color: #7fbfbf; text-decoration-color: #7fbfbf\">             </span><span style=\"color: #800000; text-decoration-color: #800000\">decay at the plane boundaries.                                     </span>\n",
              "</pre>\n"
            ]
          },
          "metadata": {}
        },
        {
          "output_type": "display_data",
          "data": {
            "text/plain": [
              "\u001b[2;36m            \u001b[0m\u001b[2;36m \u001b[0m\u001b[31mWARNING: Mode field at frequency index \u001b[0m\u001b[1;36m0\u001b[0m\u001b[31m, mode index \u001b[0m\u001b[1;36m12\u001b[0m\u001b[31m does not   \u001b[0m\n",
              "\u001b[2;36m             \u001b[0m\u001b[31mdecay at the plane boundaries.                                     \u001b[0m\n"
            ],
            "text/html": [
              "<pre style=\"white-space:pre;overflow-x:auto;line-height:normal;font-family:Menlo,'DejaVu Sans Mono',consolas,'Courier New',monospace\"><span style=\"color: #7fbfbf; text-decoration-color: #7fbfbf\">             </span><span style=\"color: #800000; text-decoration-color: #800000\">WARNING: Mode field at frequency index </span><span style=\"color: #008080; text-decoration-color: #008080; font-weight: bold\">0</span><span style=\"color: #800000; text-decoration-color: #800000\">, mode index </span><span style=\"color: #008080; text-decoration-color: #008080; font-weight: bold\">12</span><span style=\"color: #800000; text-decoration-color: #800000\"> does not   </span>\n",
              "<span style=\"color: #7fbfbf; text-decoration-color: #7fbfbf\">             </span><span style=\"color: #800000; text-decoration-color: #800000\">decay at the plane boundaries.                                     </span>\n",
              "</pre>\n"
            ]
          },
          "metadata": {}
        },
        {
          "output_type": "display_data",
          "data": {
            "text/plain": [
              "\u001b[2;36m            \u001b[0m\u001b[2;36m \u001b[0m\u001b[31mWARNING: Mode field at frequency index \u001b[0m\u001b[1;36m0\u001b[0m\u001b[31m, mode index \u001b[0m\u001b[1;36m13\u001b[0m\u001b[31m does not   \u001b[0m\n",
              "\u001b[2;36m             \u001b[0m\u001b[31mdecay at the plane boundaries.                                     \u001b[0m\n"
            ],
            "text/html": [
              "<pre style=\"white-space:pre;overflow-x:auto;line-height:normal;font-family:Menlo,'DejaVu Sans Mono',consolas,'Courier New',monospace\"><span style=\"color: #7fbfbf; text-decoration-color: #7fbfbf\">             </span><span style=\"color: #800000; text-decoration-color: #800000\">WARNING: Mode field at frequency index </span><span style=\"color: #008080; text-decoration-color: #008080; font-weight: bold\">0</span><span style=\"color: #800000; text-decoration-color: #800000\">, mode index </span><span style=\"color: #008080; text-decoration-color: #008080; font-weight: bold\">13</span><span style=\"color: #800000; text-decoration-color: #800000\"> does not   </span>\n",
              "<span style=\"color: #7fbfbf; text-decoration-color: #7fbfbf\">             </span><span style=\"color: #800000; text-decoration-color: #800000\">decay at the plane boundaries.                                     </span>\n",
              "</pre>\n"
            ]
          },
          "metadata": {}
        },
        {
          "output_type": "display_data",
          "data": {
            "text/plain": [
              "\u001b[2;36m            \u001b[0m\u001b[2;36m \u001b[0m\u001b[31mWARNING: Mode field at frequency index \u001b[0m\u001b[1;36m0\u001b[0m\u001b[31m, mode index \u001b[0m\u001b[1;36m14\u001b[0m\u001b[31m does not   \u001b[0m\n",
              "\u001b[2;36m             \u001b[0m\u001b[31mdecay at the plane boundaries.                                     \u001b[0m\n"
            ],
            "text/html": [
              "<pre style=\"white-space:pre;overflow-x:auto;line-height:normal;font-family:Menlo,'DejaVu Sans Mono',consolas,'Courier New',monospace\"><span style=\"color: #7fbfbf; text-decoration-color: #7fbfbf\">             </span><span style=\"color: #800000; text-decoration-color: #800000\">WARNING: Mode field at frequency index </span><span style=\"color: #008080; text-decoration-color: #008080; font-weight: bold\">0</span><span style=\"color: #800000; text-decoration-color: #800000\">, mode index </span><span style=\"color: #008080; text-decoration-color: #008080; font-weight: bold\">14</span><span style=\"color: #800000; text-decoration-color: #800000\"> does not   </span>\n",
              "<span style=\"color: #7fbfbf; text-decoration-color: #7fbfbf\">             </span><span style=\"color: #800000; text-decoration-color: #800000\">decay at the plane boundaries.                                     </span>\n",
              "</pre>\n"
            ]
          },
          "metadata": {}
        },
        {
          "output_type": "display_data",
          "data": {
            "text/plain": [
              "\u001b[2;36m            \u001b[0m\u001b[2;36m \u001b[0m\u001b[31mWARNING: Mode field at frequency index \u001b[0m\u001b[1;36m0\u001b[0m\u001b[31m, mode index \u001b[0m\u001b[1;36m15\u001b[0m\u001b[31m does not   \u001b[0m\n",
              "\u001b[2;36m             \u001b[0m\u001b[31mdecay at the plane boundaries.                                     \u001b[0m\n"
            ],
            "text/html": [
              "<pre style=\"white-space:pre;overflow-x:auto;line-height:normal;font-family:Menlo,'DejaVu Sans Mono',consolas,'Courier New',monospace\"><span style=\"color: #7fbfbf; text-decoration-color: #7fbfbf\">             </span><span style=\"color: #800000; text-decoration-color: #800000\">WARNING: Mode field at frequency index </span><span style=\"color: #008080; text-decoration-color: #008080; font-weight: bold\">0</span><span style=\"color: #800000; text-decoration-color: #800000\">, mode index </span><span style=\"color: #008080; text-decoration-color: #008080; font-weight: bold\">15</span><span style=\"color: #800000; text-decoration-color: #800000\"> does not   </span>\n",
              "<span style=\"color: #7fbfbf; text-decoration-color: #7fbfbf\">             </span><span style=\"color: #800000; text-decoration-color: #800000\">decay at the plane boundaries.                                     </span>\n",
              "</pre>\n"
            ]
          },
          "metadata": {}
        },
        {
          "output_type": "display_data",
          "data": {
            "text/plain": [
              "\u001b[2;36m            \u001b[0m\u001b[2;36m \u001b[0m\u001b[31mWARNING: Mode field at frequency index \u001b[0m\u001b[1;36m0\u001b[0m\u001b[31m, mode index \u001b[0m\u001b[1;36m16\u001b[0m\u001b[31m does not   \u001b[0m\n",
              "\u001b[2;36m             \u001b[0m\u001b[31mdecay at the plane boundaries.                                     \u001b[0m\n"
            ],
            "text/html": [
              "<pre style=\"white-space:pre;overflow-x:auto;line-height:normal;font-family:Menlo,'DejaVu Sans Mono',consolas,'Courier New',monospace\"><span style=\"color: #7fbfbf; text-decoration-color: #7fbfbf\">             </span><span style=\"color: #800000; text-decoration-color: #800000\">WARNING: Mode field at frequency index </span><span style=\"color: #008080; text-decoration-color: #008080; font-weight: bold\">0</span><span style=\"color: #800000; text-decoration-color: #800000\">, mode index </span><span style=\"color: #008080; text-decoration-color: #008080; font-weight: bold\">16</span><span style=\"color: #800000; text-decoration-color: #800000\"> does not   </span>\n",
              "<span style=\"color: #7fbfbf; text-decoration-color: #7fbfbf\">             </span><span style=\"color: #800000; text-decoration-color: #800000\">decay at the plane boundaries.                                     </span>\n",
              "</pre>\n"
            ]
          },
          "metadata": {}
        },
        {
          "output_type": "display_data",
          "data": {
            "text/plain": [
              "\u001b[2;36m            \u001b[0m\u001b[2;36m \u001b[0m\u001b[31mWARNING: Mode field at frequency index \u001b[0m\u001b[1;36m0\u001b[0m\u001b[31m, mode index \u001b[0m\u001b[1;36m17\u001b[0m\u001b[31m does not   \u001b[0m\n",
              "\u001b[2;36m             \u001b[0m\u001b[31mdecay at the plane boundaries.                                     \u001b[0m\n"
            ],
            "text/html": [
              "<pre style=\"white-space:pre;overflow-x:auto;line-height:normal;font-family:Menlo,'DejaVu Sans Mono',consolas,'Courier New',monospace\"><span style=\"color: #7fbfbf; text-decoration-color: #7fbfbf\">             </span><span style=\"color: #800000; text-decoration-color: #800000\">WARNING: Mode field at frequency index </span><span style=\"color: #008080; text-decoration-color: #008080; font-weight: bold\">0</span><span style=\"color: #800000; text-decoration-color: #800000\">, mode index </span><span style=\"color: #008080; text-decoration-color: #008080; font-weight: bold\">17</span><span style=\"color: #800000; text-decoration-color: #800000\"> does not   </span>\n",
              "<span style=\"color: #7fbfbf; text-decoration-color: #7fbfbf\">             </span><span style=\"color: #800000; text-decoration-color: #800000\">decay at the plane boundaries.                                     </span>\n",
              "</pre>\n"
            ]
          },
          "metadata": {}
        },
        {
          "output_type": "display_data",
          "data": {
            "text/plain": [
              "\u001b[2;36m            \u001b[0m\u001b[2;36m \u001b[0m\u001b[31mWARNING: Mode field at frequency index \u001b[0m\u001b[1;36m0\u001b[0m\u001b[31m, mode index \u001b[0m\u001b[1;36m18\u001b[0m\u001b[31m does not   \u001b[0m\n",
              "\u001b[2;36m             \u001b[0m\u001b[31mdecay at the plane boundaries.                                     \u001b[0m\n"
            ],
            "text/html": [
              "<pre style=\"white-space:pre;overflow-x:auto;line-height:normal;font-family:Menlo,'DejaVu Sans Mono',consolas,'Courier New',monospace\"><span style=\"color: #7fbfbf; text-decoration-color: #7fbfbf\">             </span><span style=\"color: #800000; text-decoration-color: #800000\">WARNING: Mode field at frequency index </span><span style=\"color: #008080; text-decoration-color: #008080; font-weight: bold\">0</span><span style=\"color: #800000; text-decoration-color: #800000\">, mode index </span><span style=\"color: #008080; text-decoration-color: #008080; font-weight: bold\">18</span><span style=\"color: #800000; text-decoration-color: #800000\"> does not   </span>\n",
              "<span style=\"color: #7fbfbf; text-decoration-color: #7fbfbf\">             </span><span style=\"color: #800000; text-decoration-color: #800000\">decay at the plane boundaries.                                     </span>\n",
              "</pre>\n"
            ]
          },
          "metadata": {}
        },
        {
          "output_type": "display_data",
          "data": {
            "text/plain": [
              "\u001b[2;36m            \u001b[0m\u001b[2;36m \u001b[0m\u001b[31mWARNING: Mode field at frequency index \u001b[0m\u001b[1;36m0\u001b[0m\u001b[31m, mode index \u001b[0m\u001b[1;36m19\u001b[0m\u001b[31m does not   \u001b[0m\n",
              "\u001b[2;36m             \u001b[0m\u001b[31mdecay at the plane boundaries.                                     \u001b[0m\n"
            ],
            "text/html": [
              "<pre style=\"white-space:pre;overflow-x:auto;line-height:normal;font-family:Menlo,'DejaVu Sans Mono',consolas,'Courier New',monospace\"><span style=\"color: #7fbfbf; text-decoration-color: #7fbfbf\">             </span><span style=\"color: #800000; text-decoration-color: #800000\">WARNING: Mode field at frequency index </span><span style=\"color: #008080; text-decoration-color: #008080; font-weight: bold\">0</span><span style=\"color: #800000; text-decoration-color: #800000\">, mode index </span><span style=\"color: #008080; text-decoration-color: #008080; font-weight: bold\">19</span><span style=\"color: #800000; text-decoration-color: #800000\"> does not   </span>\n",
              "<span style=\"color: #7fbfbf; text-decoration-color: #7fbfbf\">             </span><span style=\"color: #800000; text-decoration-color: #800000\">decay at the plane boundaries.                                     </span>\n",
              "</pre>\n"
            ]
          },
          "metadata": {}
        },
        {
          "output_type": "stream",
          "name": "stdout",
          "text": [
            "DOF:  48180\n"
          ]
        },
        {
          "output_type": "display_data",
          "data": {
            "text/plain": [
              "\u001b[2;36m16:46:10 UTC\u001b[0m\u001b[2;36m \u001b[0m\u001b[31mWARNING: Mode field at frequency index \u001b[0m\u001b[1;36m0\u001b[0m\u001b[31m, mode index \u001b[0m\u001b[1;36m6\u001b[0m\u001b[31m does not    \u001b[0m\n",
              "\u001b[2;36m             \u001b[0m\u001b[31mdecay at the plane boundaries.                                     \u001b[0m\n"
            ],
            "text/html": [
              "<pre style=\"white-space:pre;overflow-x:auto;line-height:normal;font-family:Menlo,'DejaVu Sans Mono',consolas,'Courier New',monospace\"><span style=\"color: #7fbfbf; text-decoration-color: #7fbfbf\">16:46:10 UTC </span><span style=\"color: #800000; text-decoration-color: #800000\">WARNING: Mode field at frequency index </span><span style=\"color: #008080; text-decoration-color: #008080; font-weight: bold\">0</span><span style=\"color: #800000; text-decoration-color: #800000\">, mode index </span><span style=\"color: #008080; text-decoration-color: #008080; font-weight: bold\">6</span><span style=\"color: #800000; text-decoration-color: #800000\"> does not    </span>\n",
              "<span style=\"color: #7fbfbf; text-decoration-color: #7fbfbf\">             </span><span style=\"color: #800000; text-decoration-color: #800000\">decay at the plane boundaries.                                     </span>\n",
              "</pre>\n"
            ]
          },
          "metadata": {}
        },
        {
          "output_type": "display_data",
          "data": {
            "text/plain": [
              "\u001b[2;36m            \u001b[0m\u001b[2;36m \u001b[0m\u001b[31mWARNING: Mode field at frequency index \u001b[0m\u001b[1;36m0\u001b[0m\u001b[31m, mode index \u001b[0m\u001b[1;36m7\u001b[0m\u001b[31m does not    \u001b[0m\n",
              "\u001b[2;36m             \u001b[0m\u001b[31mdecay at the plane boundaries.                                     \u001b[0m\n"
            ],
            "text/html": [
              "<pre style=\"white-space:pre;overflow-x:auto;line-height:normal;font-family:Menlo,'DejaVu Sans Mono',consolas,'Courier New',monospace\"><span style=\"color: #7fbfbf; text-decoration-color: #7fbfbf\">             </span><span style=\"color: #800000; text-decoration-color: #800000\">WARNING: Mode field at frequency index </span><span style=\"color: #008080; text-decoration-color: #008080; font-weight: bold\">0</span><span style=\"color: #800000; text-decoration-color: #800000\">, mode index </span><span style=\"color: #008080; text-decoration-color: #008080; font-weight: bold\">7</span><span style=\"color: #800000; text-decoration-color: #800000\"> does not    </span>\n",
              "<span style=\"color: #7fbfbf; text-decoration-color: #7fbfbf\">             </span><span style=\"color: #800000; text-decoration-color: #800000\">decay at the plane boundaries.                                     </span>\n",
              "</pre>\n"
            ]
          },
          "metadata": {}
        },
        {
          "output_type": "display_data",
          "data": {
            "text/plain": [
              "\u001b[2;36m            \u001b[0m\u001b[2;36m \u001b[0m\u001b[31mWARNING: Mode field at frequency index \u001b[0m\u001b[1;36m0\u001b[0m\u001b[31m, mode index \u001b[0m\u001b[1;36m8\u001b[0m\u001b[31m does not    \u001b[0m\n",
              "\u001b[2;36m             \u001b[0m\u001b[31mdecay at the plane boundaries.                                     \u001b[0m\n"
            ],
            "text/html": [
              "<pre style=\"white-space:pre;overflow-x:auto;line-height:normal;font-family:Menlo,'DejaVu Sans Mono',consolas,'Courier New',monospace\"><span style=\"color: #7fbfbf; text-decoration-color: #7fbfbf\">             </span><span style=\"color: #800000; text-decoration-color: #800000\">WARNING: Mode field at frequency index </span><span style=\"color: #008080; text-decoration-color: #008080; font-weight: bold\">0</span><span style=\"color: #800000; text-decoration-color: #800000\">, mode index </span><span style=\"color: #008080; text-decoration-color: #008080; font-weight: bold\">8</span><span style=\"color: #800000; text-decoration-color: #800000\"> does not    </span>\n",
              "<span style=\"color: #7fbfbf; text-decoration-color: #7fbfbf\">             </span><span style=\"color: #800000; text-decoration-color: #800000\">decay at the plane boundaries.                                     </span>\n",
              "</pre>\n"
            ]
          },
          "metadata": {}
        },
        {
          "output_type": "display_data",
          "data": {
            "text/plain": [
              "\u001b[2;36m            \u001b[0m\u001b[2;36m \u001b[0m\u001b[31mWARNING: Mode field at frequency index \u001b[0m\u001b[1;36m0\u001b[0m\u001b[31m, mode index \u001b[0m\u001b[1;36m9\u001b[0m\u001b[31m does not    \u001b[0m\n",
              "\u001b[2;36m             \u001b[0m\u001b[31mdecay at the plane boundaries.                                     \u001b[0m\n"
            ],
            "text/html": [
              "<pre style=\"white-space:pre;overflow-x:auto;line-height:normal;font-family:Menlo,'DejaVu Sans Mono',consolas,'Courier New',monospace\"><span style=\"color: #7fbfbf; text-decoration-color: #7fbfbf\">             </span><span style=\"color: #800000; text-decoration-color: #800000\">WARNING: Mode field at frequency index </span><span style=\"color: #008080; text-decoration-color: #008080; font-weight: bold\">0</span><span style=\"color: #800000; text-decoration-color: #800000\">, mode index </span><span style=\"color: #008080; text-decoration-color: #008080; font-weight: bold\">9</span><span style=\"color: #800000; text-decoration-color: #800000\"> does not    </span>\n",
              "<span style=\"color: #7fbfbf; text-decoration-color: #7fbfbf\">             </span><span style=\"color: #800000; text-decoration-color: #800000\">decay at the plane boundaries.                                     </span>\n",
              "</pre>\n"
            ]
          },
          "metadata": {}
        },
        {
          "output_type": "display_data",
          "data": {
            "text/plain": [
              "\u001b[2;36m            \u001b[0m\u001b[2;36m \u001b[0m\u001b[31mWARNING: Mode field at frequency index \u001b[0m\u001b[1;36m0\u001b[0m\u001b[31m, mode index \u001b[0m\u001b[1;36m10\u001b[0m\u001b[31m does not   \u001b[0m\n",
              "\u001b[2;36m             \u001b[0m\u001b[31mdecay at the plane boundaries.                                     \u001b[0m\n"
            ],
            "text/html": [
              "<pre style=\"white-space:pre;overflow-x:auto;line-height:normal;font-family:Menlo,'DejaVu Sans Mono',consolas,'Courier New',monospace\"><span style=\"color: #7fbfbf; text-decoration-color: #7fbfbf\">             </span><span style=\"color: #800000; text-decoration-color: #800000\">WARNING: Mode field at frequency index </span><span style=\"color: #008080; text-decoration-color: #008080; font-weight: bold\">0</span><span style=\"color: #800000; text-decoration-color: #800000\">, mode index </span><span style=\"color: #008080; text-decoration-color: #008080; font-weight: bold\">10</span><span style=\"color: #800000; text-decoration-color: #800000\"> does not   </span>\n",
              "<span style=\"color: #7fbfbf; text-decoration-color: #7fbfbf\">             </span><span style=\"color: #800000; text-decoration-color: #800000\">decay at the plane boundaries.                                     </span>\n",
              "</pre>\n"
            ]
          },
          "metadata": {}
        },
        {
          "output_type": "display_data",
          "data": {
            "text/plain": [
              "\u001b[2;36m            \u001b[0m\u001b[2;36m \u001b[0m\u001b[31mWARNING: Mode field at frequency index \u001b[0m\u001b[1;36m0\u001b[0m\u001b[31m, mode index \u001b[0m\u001b[1;36m11\u001b[0m\u001b[31m does not   \u001b[0m\n",
              "\u001b[2;36m             \u001b[0m\u001b[31mdecay at the plane boundaries.                                     \u001b[0m\n"
            ],
            "text/html": [
              "<pre style=\"white-space:pre;overflow-x:auto;line-height:normal;font-family:Menlo,'DejaVu Sans Mono',consolas,'Courier New',monospace\"><span style=\"color: #7fbfbf; text-decoration-color: #7fbfbf\">             </span><span style=\"color: #800000; text-decoration-color: #800000\">WARNING: Mode field at frequency index </span><span style=\"color: #008080; text-decoration-color: #008080; font-weight: bold\">0</span><span style=\"color: #800000; text-decoration-color: #800000\">, mode index </span><span style=\"color: #008080; text-decoration-color: #008080; font-weight: bold\">11</span><span style=\"color: #800000; text-decoration-color: #800000\"> does not   </span>\n",
              "<span style=\"color: #7fbfbf; text-decoration-color: #7fbfbf\">             </span><span style=\"color: #800000; text-decoration-color: #800000\">decay at the plane boundaries.                                     </span>\n",
              "</pre>\n"
            ]
          },
          "metadata": {}
        },
        {
          "output_type": "display_data",
          "data": {
            "text/plain": [
              "\u001b[2;36m            \u001b[0m\u001b[2;36m \u001b[0m\u001b[31mWARNING: Mode field at frequency index \u001b[0m\u001b[1;36m0\u001b[0m\u001b[31m, mode index \u001b[0m\u001b[1;36m13\u001b[0m\u001b[31m does not   \u001b[0m\n",
              "\u001b[2;36m             \u001b[0m\u001b[31mdecay at the plane boundaries.                                     \u001b[0m\n"
            ],
            "text/html": [
              "<pre style=\"white-space:pre;overflow-x:auto;line-height:normal;font-family:Menlo,'DejaVu Sans Mono',consolas,'Courier New',monospace\"><span style=\"color: #7fbfbf; text-decoration-color: #7fbfbf\">             </span><span style=\"color: #800000; text-decoration-color: #800000\">WARNING: Mode field at frequency index </span><span style=\"color: #008080; text-decoration-color: #008080; font-weight: bold\">0</span><span style=\"color: #800000; text-decoration-color: #800000\">, mode index </span><span style=\"color: #008080; text-decoration-color: #008080; font-weight: bold\">13</span><span style=\"color: #800000; text-decoration-color: #800000\"> does not   </span>\n",
              "<span style=\"color: #7fbfbf; text-decoration-color: #7fbfbf\">             </span><span style=\"color: #800000; text-decoration-color: #800000\">decay at the plane boundaries.                                     </span>\n",
              "</pre>\n"
            ]
          },
          "metadata": {}
        },
        {
          "output_type": "display_data",
          "data": {
            "text/plain": [
              "\u001b[2;36m            \u001b[0m\u001b[2;36m \u001b[0m\u001b[31mWARNING: Mode field at frequency index \u001b[0m\u001b[1;36m0\u001b[0m\u001b[31m, mode index \u001b[0m\u001b[1;36m14\u001b[0m\u001b[31m does not   \u001b[0m\n",
              "\u001b[2;36m             \u001b[0m\u001b[31mdecay at the plane boundaries.                                     \u001b[0m\n"
            ],
            "text/html": [
              "<pre style=\"white-space:pre;overflow-x:auto;line-height:normal;font-family:Menlo,'DejaVu Sans Mono',consolas,'Courier New',monospace\"><span style=\"color: #7fbfbf; text-decoration-color: #7fbfbf\">             </span><span style=\"color: #800000; text-decoration-color: #800000\">WARNING: Mode field at frequency index </span><span style=\"color: #008080; text-decoration-color: #008080; font-weight: bold\">0</span><span style=\"color: #800000; text-decoration-color: #800000\">, mode index </span><span style=\"color: #008080; text-decoration-color: #008080; font-weight: bold\">14</span><span style=\"color: #800000; text-decoration-color: #800000\"> does not   </span>\n",
              "<span style=\"color: #7fbfbf; text-decoration-color: #7fbfbf\">             </span><span style=\"color: #800000; text-decoration-color: #800000\">decay at the plane boundaries.                                     </span>\n",
              "</pre>\n"
            ]
          },
          "metadata": {}
        },
        {
          "output_type": "display_data",
          "data": {
            "text/plain": [
              "\u001b[2;36m            \u001b[0m\u001b[2;36m \u001b[0m\u001b[31mWARNING: Mode field at frequency index \u001b[0m\u001b[1;36m0\u001b[0m\u001b[31m, mode index \u001b[0m\u001b[1;36m15\u001b[0m\u001b[31m does not   \u001b[0m\n",
              "\u001b[2;36m             \u001b[0m\u001b[31mdecay at the plane boundaries.                                     \u001b[0m\n"
            ],
            "text/html": [
              "<pre style=\"white-space:pre;overflow-x:auto;line-height:normal;font-family:Menlo,'DejaVu Sans Mono',consolas,'Courier New',monospace\"><span style=\"color: #7fbfbf; text-decoration-color: #7fbfbf\">             </span><span style=\"color: #800000; text-decoration-color: #800000\">WARNING: Mode field at frequency index </span><span style=\"color: #008080; text-decoration-color: #008080; font-weight: bold\">0</span><span style=\"color: #800000; text-decoration-color: #800000\">, mode index </span><span style=\"color: #008080; text-decoration-color: #008080; font-weight: bold\">15</span><span style=\"color: #800000; text-decoration-color: #800000\"> does not   </span>\n",
              "<span style=\"color: #7fbfbf; text-decoration-color: #7fbfbf\">             </span><span style=\"color: #800000; text-decoration-color: #800000\">decay at the plane boundaries.                                     </span>\n",
              "</pre>\n"
            ]
          },
          "metadata": {}
        },
        {
          "output_type": "display_data",
          "data": {
            "text/plain": [
              "\u001b[2;36m            \u001b[0m\u001b[2;36m \u001b[0m\u001b[31mWARNING: Mode field at frequency index \u001b[0m\u001b[1;36m0\u001b[0m\u001b[31m, mode index \u001b[0m\u001b[1;36m18\u001b[0m\u001b[31m does not   \u001b[0m\n",
              "\u001b[2;36m             \u001b[0m\u001b[31mdecay at the plane boundaries.                                     \u001b[0m\n"
            ],
            "text/html": [
              "<pre style=\"white-space:pre;overflow-x:auto;line-height:normal;font-family:Menlo,'DejaVu Sans Mono',consolas,'Courier New',monospace\"><span style=\"color: #7fbfbf; text-decoration-color: #7fbfbf\">             </span><span style=\"color: #800000; text-decoration-color: #800000\">WARNING: Mode field at frequency index </span><span style=\"color: #008080; text-decoration-color: #008080; font-weight: bold\">0</span><span style=\"color: #800000; text-decoration-color: #800000\">, mode index </span><span style=\"color: #008080; text-decoration-color: #008080; font-weight: bold\">18</span><span style=\"color: #800000; text-decoration-color: #800000\"> does not   </span>\n",
              "<span style=\"color: #7fbfbf; text-decoration-color: #7fbfbf\">             </span><span style=\"color: #800000; text-decoration-color: #800000\">decay at the plane boundaries.                                     </span>\n",
              "</pre>\n"
            ]
          },
          "metadata": {}
        },
        {
          "output_type": "display_data",
          "data": {
            "text/plain": [
              "\u001b[2;36m            \u001b[0m\u001b[2;36m \u001b[0m\u001b[31mWARNING: Mode field at frequency index \u001b[0m\u001b[1;36m0\u001b[0m\u001b[31m, mode index \u001b[0m\u001b[1;36m19\u001b[0m\u001b[31m does not   \u001b[0m\n",
              "\u001b[2;36m             \u001b[0m\u001b[31mdecay at the plane boundaries.                                     \u001b[0m\n"
            ],
            "text/html": [
              "<pre style=\"white-space:pre;overflow-x:auto;line-height:normal;font-family:Menlo,'DejaVu Sans Mono',consolas,'Courier New',monospace\"><span style=\"color: #7fbfbf; text-decoration-color: #7fbfbf\">             </span><span style=\"color: #800000; text-decoration-color: #800000\">WARNING: Mode field at frequency index </span><span style=\"color: #008080; text-decoration-color: #008080; font-weight: bold\">0</span><span style=\"color: #800000; text-decoration-color: #800000\">, mode index </span><span style=\"color: #008080; text-decoration-color: #008080; font-weight: bold\">19</span><span style=\"color: #800000; text-decoration-color: #800000\"> does not   </span>\n",
              "<span style=\"color: #7fbfbf; text-decoration-color: #7fbfbf\">             </span><span style=\"color: #800000; text-decoration-color: #800000\">decay at the plane boundaries.                                     </span>\n",
              "</pre>\n"
            ]
          },
          "metadata": {}
        },
        {
          "output_type": "stream",
          "name": "stdout",
          "text": [
            "DOF:  69300\n"
          ]
        },
        {
          "output_type": "display_data",
          "data": {
            "text/plain": [
              "\u001b[2;36m16:46:21 UTC\u001b[0m\u001b[2;36m \u001b[0m\u001b[31mWARNING: Mode field at frequency index \u001b[0m\u001b[1;36m0\u001b[0m\u001b[31m, mode index \u001b[0m\u001b[1;36m6\u001b[0m\u001b[31m does not    \u001b[0m\n",
              "\u001b[2;36m             \u001b[0m\u001b[31mdecay at the plane boundaries.                                     \u001b[0m\n"
            ],
            "text/html": [
              "<pre style=\"white-space:pre;overflow-x:auto;line-height:normal;font-family:Menlo,'DejaVu Sans Mono',consolas,'Courier New',monospace\"><span style=\"color: #7fbfbf; text-decoration-color: #7fbfbf\">16:46:21 UTC </span><span style=\"color: #800000; text-decoration-color: #800000\">WARNING: Mode field at frequency index </span><span style=\"color: #008080; text-decoration-color: #008080; font-weight: bold\">0</span><span style=\"color: #800000; text-decoration-color: #800000\">, mode index </span><span style=\"color: #008080; text-decoration-color: #008080; font-weight: bold\">6</span><span style=\"color: #800000; text-decoration-color: #800000\"> does not    </span>\n",
              "<span style=\"color: #7fbfbf; text-decoration-color: #7fbfbf\">             </span><span style=\"color: #800000; text-decoration-color: #800000\">decay at the plane boundaries.                                     </span>\n",
              "</pre>\n"
            ]
          },
          "metadata": {}
        },
        {
          "output_type": "display_data",
          "data": {
            "text/plain": [
              "\u001b[2;36m            \u001b[0m\u001b[2;36m \u001b[0m\u001b[31mWARNING: Mode field at frequency index \u001b[0m\u001b[1;36m0\u001b[0m\u001b[31m, mode index \u001b[0m\u001b[1;36m7\u001b[0m\u001b[31m does not    \u001b[0m\n",
              "\u001b[2;36m             \u001b[0m\u001b[31mdecay at the plane boundaries.                                     \u001b[0m\n"
            ],
            "text/html": [
              "<pre style=\"white-space:pre;overflow-x:auto;line-height:normal;font-family:Menlo,'DejaVu Sans Mono',consolas,'Courier New',monospace\"><span style=\"color: #7fbfbf; text-decoration-color: #7fbfbf\">             </span><span style=\"color: #800000; text-decoration-color: #800000\">WARNING: Mode field at frequency index </span><span style=\"color: #008080; text-decoration-color: #008080; font-weight: bold\">0</span><span style=\"color: #800000; text-decoration-color: #800000\">, mode index </span><span style=\"color: #008080; text-decoration-color: #008080; font-weight: bold\">7</span><span style=\"color: #800000; text-decoration-color: #800000\"> does not    </span>\n",
              "<span style=\"color: #7fbfbf; text-decoration-color: #7fbfbf\">             </span><span style=\"color: #800000; text-decoration-color: #800000\">decay at the plane boundaries.                                     </span>\n",
              "</pre>\n"
            ]
          },
          "metadata": {}
        },
        {
          "output_type": "display_data",
          "data": {
            "text/plain": [
              "\u001b[2;36m            \u001b[0m\u001b[2;36m \u001b[0m\u001b[31mWARNING: Mode field at frequency index \u001b[0m\u001b[1;36m0\u001b[0m\u001b[31m, mode index \u001b[0m\u001b[1;36m8\u001b[0m\u001b[31m does not    \u001b[0m\n",
              "\u001b[2;36m             \u001b[0m\u001b[31mdecay at the plane boundaries.                                     \u001b[0m\n"
            ],
            "text/html": [
              "<pre style=\"white-space:pre;overflow-x:auto;line-height:normal;font-family:Menlo,'DejaVu Sans Mono',consolas,'Courier New',monospace\"><span style=\"color: #7fbfbf; text-decoration-color: #7fbfbf\">             </span><span style=\"color: #800000; text-decoration-color: #800000\">WARNING: Mode field at frequency index </span><span style=\"color: #008080; text-decoration-color: #008080; font-weight: bold\">0</span><span style=\"color: #800000; text-decoration-color: #800000\">, mode index </span><span style=\"color: #008080; text-decoration-color: #008080; font-weight: bold\">8</span><span style=\"color: #800000; text-decoration-color: #800000\"> does not    </span>\n",
              "<span style=\"color: #7fbfbf; text-decoration-color: #7fbfbf\">             </span><span style=\"color: #800000; text-decoration-color: #800000\">decay at the plane boundaries.                                     </span>\n",
              "</pre>\n"
            ]
          },
          "metadata": {}
        },
        {
          "output_type": "display_data",
          "data": {
            "text/plain": [
              "\u001b[2;36m            \u001b[0m\u001b[2;36m \u001b[0m\u001b[31mWARNING: Mode field at frequency index \u001b[0m\u001b[1;36m0\u001b[0m\u001b[31m, mode index \u001b[0m\u001b[1;36m9\u001b[0m\u001b[31m does not    \u001b[0m\n",
              "\u001b[2;36m             \u001b[0m\u001b[31mdecay at the plane boundaries.                                     \u001b[0m\n"
            ],
            "text/html": [
              "<pre style=\"white-space:pre;overflow-x:auto;line-height:normal;font-family:Menlo,'DejaVu Sans Mono',consolas,'Courier New',monospace\"><span style=\"color: #7fbfbf; text-decoration-color: #7fbfbf\">             </span><span style=\"color: #800000; text-decoration-color: #800000\">WARNING: Mode field at frequency index </span><span style=\"color: #008080; text-decoration-color: #008080; font-weight: bold\">0</span><span style=\"color: #800000; text-decoration-color: #800000\">, mode index </span><span style=\"color: #008080; text-decoration-color: #008080; font-weight: bold\">9</span><span style=\"color: #800000; text-decoration-color: #800000\"> does not    </span>\n",
              "<span style=\"color: #7fbfbf; text-decoration-color: #7fbfbf\">             </span><span style=\"color: #800000; text-decoration-color: #800000\">decay at the plane boundaries.                                     </span>\n",
              "</pre>\n"
            ]
          },
          "metadata": {}
        },
        {
          "output_type": "display_data",
          "data": {
            "text/plain": [
              "\u001b[2;36m            \u001b[0m\u001b[2;36m \u001b[0m\u001b[31mWARNING: Mode field at frequency index \u001b[0m\u001b[1;36m0\u001b[0m\u001b[31m, mode index \u001b[0m\u001b[1;36m10\u001b[0m\u001b[31m does not   \u001b[0m\n",
              "\u001b[2;36m             \u001b[0m\u001b[31mdecay at the plane boundaries.                                     \u001b[0m\n"
            ],
            "text/html": [
              "<pre style=\"white-space:pre;overflow-x:auto;line-height:normal;font-family:Menlo,'DejaVu Sans Mono',consolas,'Courier New',monospace\"><span style=\"color: #7fbfbf; text-decoration-color: #7fbfbf\">             </span><span style=\"color: #800000; text-decoration-color: #800000\">WARNING: Mode field at frequency index </span><span style=\"color: #008080; text-decoration-color: #008080; font-weight: bold\">0</span><span style=\"color: #800000; text-decoration-color: #800000\">, mode index </span><span style=\"color: #008080; text-decoration-color: #008080; font-weight: bold\">10</span><span style=\"color: #800000; text-decoration-color: #800000\"> does not   </span>\n",
              "<span style=\"color: #7fbfbf; text-decoration-color: #7fbfbf\">             </span><span style=\"color: #800000; text-decoration-color: #800000\">decay at the plane boundaries.                                     </span>\n",
              "</pre>\n"
            ]
          },
          "metadata": {}
        },
        {
          "output_type": "display_data",
          "data": {
            "text/plain": [
              "\u001b[2;36m            \u001b[0m\u001b[2;36m \u001b[0m\u001b[31mWARNING: Mode field at frequency index \u001b[0m\u001b[1;36m0\u001b[0m\u001b[31m, mode index \u001b[0m\u001b[1;36m11\u001b[0m\u001b[31m does not   \u001b[0m\n",
              "\u001b[2;36m             \u001b[0m\u001b[31mdecay at the plane boundaries.                                     \u001b[0m\n"
            ],
            "text/html": [
              "<pre style=\"white-space:pre;overflow-x:auto;line-height:normal;font-family:Menlo,'DejaVu Sans Mono',consolas,'Courier New',monospace\"><span style=\"color: #7fbfbf; text-decoration-color: #7fbfbf\">             </span><span style=\"color: #800000; text-decoration-color: #800000\">WARNING: Mode field at frequency index </span><span style=\"color: #008080; text-decoration-color: #008080; font-weight: bold\">0</span><span style=\"color: #800000; text-decoration-color: #800000\">, mode index </span><span style=\"color: #008080; text-decoration-color: #008080; font-weight: bold\">11</span><span style=\"color: #800000; text-decoration-color: #800000\"> does not   </span>\n",
              "<span style=\"color: #7fbfbf; text-decoration-color: #7fbfbf\">             </span><span style=\"color: #800000; text-decoration-color: #800000\">decay at the plane boundaries.                                     </span>\n",
              "</pre>\n"
            ]
          },
          "metadata": {}
        },
        {
          "output_type": "display_data",
          "data": {
            "text/plain": [
              "\u001b[2;36m            \u001b[0m\u001b[2;36m \u001b[0m\u001b[31mWARNING: Mode field at frequency index \u001b[0m\u001b[1;36m0\u001b[0m\u001b[31m, mode index \u001b[0m\u001b[1;36m13\u001b[0m\u001b[31m does not   \u001b[0m\n",
              "\u001b[2;36m             \u001b[0m\u001b[31mdecay at the plane boundaries.                                     \u001b[0m\n"
            ],
            "text/html": [
              "<pre style=\"white-space:pre;overflow-x:auto;line-height:normal;font-family:Menlo,'DejaVu Sans Mono',consolas,'Courier New',monospace\"><span style=\"color: #7fbfbf; text-decoration-color: #7fbfbf\">             </span><span style=\"color: #800000; text-decoration-color: #800000\">WARNING: Mode field at frequency index </span><span style=\"color: #008080; text-decoration-color: #008080; font-weight: bold\">0</span><span style=\"color: #800000; text-decoration-color: #800000\">, mode index </span><span style=\"color: #008080; text-decoration-color: #008080; font-weight: bold\">13</span><span style=\"color: #800000; text-decoration-color: #800000\"> does not   </span>\n",
              "<span style=\"color: #7fbfbf; text-decoration-color: #7fbfbf\">             </span><span style=\"color: #800000; text-decoration-color: #800000\">decay at the plane boundaries.                                     </span>\n",
              "</pre>\n"
            ]
          },
          "metadata": {}
        },
        {
          "output_type": "display_data",
          "data": {
            "text/plain": [
              "\u001b[2;36m            \u001b[0m\u001b[2;36m \u001b[0m\u001b[31mWARNING: Mode field at frequency index \u001b[0m\u001b[1;36m0\u001b[0m\u001b[31m, mode index \u001b[0m\u001b[1;36m15\u001b[0m\u001b[31m does not   \u001b[0m\n",
              "\u001b[2;36m             \u001b[0m\u001b[31mdecay at the plane boundaries.                                     \u001b[0m\n"
            ],
            "text/html": [
              "<pre style=\"white-space:pre;overflow-x:auto;line-height:normal;font-family:Menlo,'DejaVu Sans Mono',consolas,'Courier New',monospace\"><span style=\"color: #7fbfbf; text-decoration-color: #7fbfbf\">             </span><span style=\"color: #800000; text-decoration-color: #800000\">WARNING: Mode field at frequency index </span><span style=\"color: #008080; text-decoration-color: #008080; font-weight: bold\">0</span><span style=\"color: #800000; text-decoration-color: #800000\">, mode index </span><span style=\"color: #008080; text-decoration-color: #008080; font-weight: bold\">15</span><span style=\"color: #800000; text-decoration-color: #800000\"> does not   </span>\n",
              "<span style=\"color: #7fbfbf; text-decoration-color: #7fbfbf\">             </span><span style=\"color: #800000; text-decoration-color: #800000\">decay at the plane boundaries.                                     </span>\n",
              "</pre>\n"
            ]
          },
          "metadata": {}
        },
        {
          "output_type": "display_data",
          "data": {
            "text/plain": [
              "\u001b[2;36m            \u001b[0m\u001b[2;36m \u001b[0m\u001b[31mWARNING: Mode field at frequency index \u001b[0m\u001b[1;36m0\u001b[0m\u001b[31m, mode index \u001b[0m\u001b[1;36m18\u001b[0m\u001b[31m does not   \u001b[0m\n",
              "\u001b[2;36m             \u001b[0m\u001b[31mdecay at the plane boundaries.                                     \u001b[0m\n"
            ],
            "text/html": [
              "<pre style=\"white-space:pre;overflow-x:auto;line-height:normal;font-family:Menlo,'DejaVu Sans Mono',consolas,'Courier New',monospace\"><span style=\"color: #7fbfbf; text-decoration-color: #7fbfbf\">             </span><span style=\"color: #800000; text-decoration-color: #800000\">WARNING: Mode field at frequency index </span><span style=\"color: #008080; text-decoration-color: #008080; font-weight: bold\">0</span><span style=\"color: #800000; text-decoration-color: #800000\">, mode index </span><span style=\"color: #008080; text-decoration-color: #008080; font-weight: bold\">18</span><span style=\"color: #800000; text-decoration-color: #800000\"> does not   </span>\n",
              "<span style=\"color: #7fbfbf; text-decoration-color: #7fbfbf\">             </span><span style=\"color: #800000; text-decoration-color: #800000\">decay at the plane boundaries.                                     </span>\n",
              "</pre>\n"
            ]
          },
          "metadata": {}
        },
        {
          "output_type": "display_data",
          "data": {
            "text/plain": [
              "\u001b[2;36m            \u001b[0m\u001b[2;36m \u001b[0m\u001b[31mWARNING: Mode field at frequency index \u001b[0m\u001b[1;36m0\u001b[0m\u001b[31m, mode index \u001b[0m\u001b[1;36m19\u001b[0m\u001b[31m does not   \u001b[0m\n",
              "\u001b[2;36m             \u001b[0m\u001b[31mdecay at the plane boundaries.                                     \u001b[0m\n"
            ],
            "text/html": [
              "<pre style=\"white-space:pre;overflow-x:auto;line-height:normal;font-family:Menlo,'DejaVu Sans Mono',consolas,'Courier New',monospace\"><span style=\"color: #7fbfbf; text-decoration-color: #7fbfbf\">             </span><span style=\"color: #800000; text-decoration-color: #800000\">WARNING: Mode field at frequency index </span><span style=\"color: #008080; text-decoration-color: #008080; font-weight: bold\">0</span><span style=\"color: #800000; text-decoration-color: #800000\">, mode index </span><span style=\"color: #008080; text-decoration-color: #008080; font-weight: bold\">19</span><span style=\"color: #800000; text-decoration-color: #800000\"> does not   </span>\n",
              "<span style=\"color: #7fbfbf; text-decoration-color: #7fbfbf\">             </span><span style=\"color: #800000; text-decoration-color: #800000\">decay at the plane boundaries.                                     </span>\n",
              "</pre>\n"
            ]
          },
          "metadata": {}
        },
        {
          "output_type": "stream",
          "name": "stdout",
          "text": [
            "DOF:  93840\n"
          ]
        },
        {
          "output_type": "display_data",
          "data": {
            "text/plain": [
              "\u001b[2;36m16:46:34 UTC\u001b[0m\u001b[2;36m \u001b[0m\u001b[31mWARNING: Mode field at frequency index \u001b[0m\u001b[1;36m0\u001b[0m\u001b[31m, mode index \u001b[0m\u001b[1;36m6\u001b[0m\u001b[31m does not    \u001b[0m\n",
              "\u001b[2;36m             \u001b[0m\u001b[31mdecay at the plane boundaries.                                     \u001b[0m\n"
            ],
            "text/html": [
              "<pre style=\"white-space:pre;overflow-x:auto;line-height:normal;font-family:Menlo,'DejaVu Sans Mono',consolas,'Courier New',monospace\"><span style=\"color: #7fbfbf; text-decoration-color: #7fbfbf\">16:46:34 UTC </span><span style=\"color: #800000; text-decoration-color: #800000\">WARNING: Mode field at frequency index </span><span style=\"color: #008080; text-decoration-color: #008080; font-weight: bold\">0</span><span style=\"color: #800000; text-decoration-color: #800000\">, mode index </span><span style=\"color: #008080; text-decoration-color: #008080; font-weight: bold\">6</span><span style=\"color: #800000; text-decoration-color: #800000\"> does not    </span>\n",
              "<span style=\"color: #7fbfbf; text-decoration-color: #7fbfbf\">             </span><span style=\"color: #800000; text-decoration-color: #800000\">decay at the plane boundaries.                                     </span>\n",
              "</pre>\n"
            ]
          },
          "metadata": {}
        },
        {
          "output_type": "display_data",
          "data": {
            "text/plain": [
              "\u001b[2;36m16:46:35 UTC\u001b[0m\u001b[2;36m \u001b[0m\u001b[31mWARNING: Mode field at frequency index \u001b[0m\u001b[1;36m0\u001b[0m\u001b[31m, mode index \u001b[0m\u001b[1;36m7\u001b[0m\u001b[31m does not    \u001b[0m\n",
              "\u001b[2;36m             \u001b[0m\u001b[31mdecay at the plane boundaries.                                     \u001b[0m\n"
            ],
            "text/html": [
              "<pre style=\"white-space:pre;overflow-x:auto;line-height:normal;font-family:Menlo,'DejaVu Sans Mono',consolas,'Courier New',monospace\"><span style=\"color: #7fbfbf; text-decoration-color: #7fbfbf\">16:46:35 UTC </span><span style=\"color: #800000; text-decoration-color: #800000\">WARNING: Mode field at frequency index </span><span style=\"color: #008080; text-decoration-color: #008080; font-weight: bold\">0</span><span style=\"color: #800000; text-decoration-color: #800000\">, mode index </span><span style=\"color: #008080; text-decoration-color: #008080; font-weight: bold\">7</span><span style=\"color: #800000; text-decoration-color: #800000\"> does not    </span>\n",
              "<span style=\"color: #7fbfbf; text-decoration-color: #7fbfbf\">             </span><span style=\"color: #800000; text-decoration-color: #800000\">decay at the plane boundaries.                                     </span>\n",
              "</pre>\n"
            ]
          },
          "metadata": {}
        },
        {
          "output_type": "display_data",
          "data": {
            "text/plain": [
              "\u001b[2;36m            \u001b[0m\u001b[2;36m \u001b[0m\u001b[31mWARNING: Mode field at frequency index \u001b[0m\u001b[1;36m0\u001b[0m\u001b[31m, mode index \u001b[0m\u001b[1;36m8\u001b[0m\u001b[31m does not    \u001b[0m\n",
              "\u001b[2;36m             \u001b[0m\u001b[31mdecay at the plane boundaries.                                     \u001b[0m\n"
            ],
            "text/html": [
              "<pre style=\"white-space:pre;overflow-x:auto;line-height:normal;font-family:Menlo,'DejaVu Sans Mono',consolas,'Courier New',monospace\"><span style=\"color: #7fbfbf; text-decoration-color: #7fbfbf\">             </span><span style=\"color: #800000; text-decoration-color: #800000\">WARNING: Mode field at frequency index </span><span style=\"color: #008080; text-decoration-color: #008080; font-weight: bold\">0</span><span style=\"color: #800000; text-decoration-color: #800000\">, mode index </span><span style=\"color: #008080; text-decoration-color: #008080; font-weight: bold\">8</span><span style=\"color: #800000; text-decoration-color: #800000\"> does not    </span>\n",
              "<span style=\"color: #7fbfbf; text-decoration-color: #7fbfbf\">             </span><span style=\"color: #800000; text-decoration-color: #800000\">decay at the plane boundaries.                                     </span>\n",
              "</pre>\n"
            ]
          },
          "metadata": {}
        },
        {
          "output_type": "display_data",
          "data": {
            "text/plain": [
              "\u001b[2;36m            \u001b[0m\u001b[2;36m \u001b[0m\u001b[31mWARNING: Mode field at frequency index \u001b[0m\u001b[1;36m0\u001b[0m\u001b[31m, mode index \u001b[0m\u001b[1;36m10\u001b[0m\u001b[31m does not   \u001b[0m\n",
              "\u001b[2;36m             \u001b[0m\u001b[31mdecay at the plane boundaries.                                     \u001b[0m\n"
            ],
            "text/html": [
              "<pre style=\"white-space:pre;overflow-x:auto;line-height:normal;font-family:Menlo,'DejaVu Sans Mono',consolas,'Courier New',monospace\"><span style=\"color: #7fbfbf; text-decoration-color: #7fbfbf\">             </span><span style=\"color: #800000; text-decoration-color: #800000\">WARNING: Mode field at frequency index </span><span style=\"color: #008080; text-decoration-color: #008080; font-weight: bold\">0</span><span style=\"color: #800000; text-decoration-color: #800000\">, mode index </span><span style=\"color: #008080; text-decoration-color: #008080; font-weight: bold\">10</span><span style=\"color: #800000; text-decoration-color: #800000\"> does not   </span>\n",
              "<span style=\"color: #7fbfbf; text-decoration-color: #7fbfbf\">             </span><span style=\"color: #800000; text-decoration-color: #800000\">decay at the plane boundaries.                                     </span>\n",
              "</pre>\n"
            ]
          },
          "metadata": {}
        },
        {
          "output_type": "display_data",
          "data": {
            "text/plain": [
              "\u001b[2;36m            \u001b[0m\u001b[2;36m \u001b[0m\u001b[31mWARNING: Mode field at frequency index \u001b[0m\u001b[1;36m0\u001b[0m\u001b[31m, mode index \u001b[0m\u001b[1;36m11\u001b[0m\u001b[31m does not   \u001b[0m\n",
              "\u001b[2;36m             \u001b[0m\u001b[31mdecay at the plane boundaries.                                     \u001b[0m\n"
            ],
            "text/html": [
              "<pre style=\"white-space:pre;overflow-x:auto;line-height:normal;font-family:Menlo,'DejaVu Sans Mono',consolas,'Courier New',monospace\"><span style=\"color: #7fbfbf; text-decoration-color: #7fbfbf\">             </span><span style=\"color: #800000; text-decoration-color: #800000\">WARNING: Mode field at frequency index </span><span style=\"color: #008080; text-decoration-color: #008080; font-weight: bold\">0</span><span style=\"color: #800000; text-decoration-color: #800000\">, mode index </span><span style=\"color: #008080; text-decoration-color: #008080; font-weight: bold\">11</span><span style=\"color: #800000; text-decoration-color: #800000\"> does not   </span>\n",
              "<span style=\"color: #7fbfbf; text-decoration-color: #7fbfbf\">             </span><span style=\"color: #800000; text-decoration-color: #800000\">decay at the plane boundaries.                                     </span>\n",
              "</pre>\n"
            ]
          },
          "metadata": {}
        },
        {
          "output_type": "display_data",
          "data": {
            "text/plain": [
              "\u001b[2;36m            \u001b[0m\u001b[2;36m \u001b[0m\u001b[31mWARNING: Mode field at frequency index \u001b[0m\u001b[1;36m0\u001b[0m\u001b[31m, mode index \u001b[0m\u001b[1;36m13\u001b[0m\u001b[31m does not   \u001b[0m\n",
              "\u001b[2;36m             \u001b[0m\u001b[31mdecay at the plane boundaries.                                     \u001b[0m\n"
            ],
            "text/html": [
              "<pre style=\"white-space:pre;overflow-x:auto;line-height:normal;font-family:Menlo,'DejaVu Sans Mono',consolas,'Courier New',monospace\"><span style=\"color: #7fbfbf; text-decoration-color: #7fbfbf\">             </span><span style=\"color: #800000; text-decoration-color: #800000\">WARNING: Mode field at frequency index </span><span style=\"color: #008080; text-decoration-color: #008080; font-weight: bold\">0</span><span style=\"color: #800000; text-decoration-color: #800000\">, mode index </span><span style=\"color: #008080; text-decoration-color: #008080; font-weight: bold\">13</span><span style=\"color: #800000; text-decoration-color: #800000\"> does not   </span>\n",
              "<span style=\"color: #7fbfbf; text-decoration-color: #7fbfbf\">             </span><span style=\"color: #800000; text-decoration-color: #800000\">decay at the plane boundaries.                                     </span>\n",
              "</pre>\n"
            ]
          },
          "metadata": {}
        },
        {
          "output_type": "display_data",
          "data": {
            "text/plain": [
              "\u001b[2;36m            \u001b[0m\u001b[2;36m \u001b[0m\u001b[31mWARNING: Mode field at frequency index \u001b[0m\u001b[1;36m0\u001b[0m\u001b[31m, mode index \u001b[0m\u001b[1;36m15\u001b[0m\u001b[31m does not   \u001b[0m\n",
              "\u001b[2;36m             \u001b[0m\u001b[31mdecay at the plane boundaries.                                     \u001b[0m\n"
            ],
            "text/html": [
              "<pre style=\"white-space:pre;overflow-x:auto;line-height:normal;font-family:Menlo,'DejaVu Sans Mono',consolas,'Courier New',monospace\"><span style=\"color: #7fbfbf; text-decoration-color: #7fbfbf\">             </span><span style=\"color: #800000; text-decoration-color: #800000\">WARNING: Mode field at frequency index </span><span style=\"color: #008080; text-decoration-color: #008080; font-weight: bold\">0</span><span style=\"color: #800000; text-decoration-color: #800000\">, mode index </span><span style=\"color: #008080; text-decoration-color: #008080; font-weight: bold\">15</span><span style=\"color: #800000; text-decoration-color: #800000\"> does not   </span>\n",
              "<span style=\"color: #7fbfbf; text-decoration-color: #7fbfbf\">             </span><span style=\"color: #800000; text-decoration-color: #800000\">decay at the plane boundaries.                                     </span>\n",
              "</pre>\n"
            ]
          },
          "metadata": {}
        },
        {
          "output_type": "display_data",
          "data": {
            "text/plain": [
              "\u001b[2;36m            \u001b[0m\u001b[2;36m \u001b[0m\u001b[31mWARNING: Mode field at frequency index \u001b[0m\u001b[1;36m0\u001b[0m\u001b[31m, mode index \u001b[0m\u001b[1;36m18\u001b[0m\u001b[31m does not   \u001b[0m\n",
              "\u001b[2;36m             \u001b[0m\u001b[31mdecay at the plane boundaries.                                     \u001b[0m\n"
            ],
            "text/html": [
              "<pre style=\"white-space:pre;overflow-x:auto;line-height:normal;font-family:Menlo,'DejaVu Sans Mono',consolas,'Courier New',monospace\"><span style=\"color: #7fbfbf; text-decoration-color: #7fbfbf\">             </span><span style=\"color: #800000; text-decoration-color: #800000\">WARNING: Mode field at frequency index </span><span style=\"color: #008080; text-decoration-color: #008080; font-weight: bold\">0</span><span style=\"color: #800000; text-decoration-color: #800000\">, mode index </span><span style=\"color: #008080; text-decoration-color: #008080; font-weight: bold\">18</span><span style=\"color: #800000; text-decoration-color: #800000\"> does not   </span>\n",
              "<span style=\"color: #7fbfbf; text-decoration-color: #7fbfbf\">             </span><span style=\"color: #800000; text-decoration-color: #800000\">decay at the plane boundaries.                                     </span>\n",
              "</pre>\n"
            ]
          },
          "metadata": {}
        },
        {
          "output_type": "display_data",
          "data": {
            "text/plain": [
              "\u001b[2;36m            \u001b[0m\u001b[2;36m \u001b[0m\u001b[31mWARNING: Mode field at frequency index \u001b[0m\u001b[1;36m0\u001b[0m\u001b[31m, mode index \u001b[0m\u001b[1;36m19\u001b[0m\u001b[31m does not   \u001b[0m\n",
              "\u001b[2;36m             \u001b[0m\u001b[31mdecay at the plane boundaries.                                     \u001b[0m\n"
            ],
            "text/html": [
              "<pre style=\"white-space:pre;overflow-x:auto;line-height:normal;font-family:Menlo,'DejaVu Sans Mono',consolas,'Courier New',monospace\"><span style=\"color: #7fbfbf; text-decoration-color: #7fbfbf\">             </span><span style=\"color: #800000; text-decoration-color: #800000\">WARNING: Mode field at frequency index </span><span style=\"color: #008080; text-decoration-color: #008080; font-weight: bold\">0</span><span style=\"color: #800000; text-decoration-color: #800000\">, mode index </span><span style=\"color: #008080; text-decoration-color: #008080; font-weight: bold\">19</span><span style=\"color: #800000; text-decoration-color: #800000\"> does not   </span>\n",
              "<span style=\"color: #7fbfbf; text-decoration-color: #7fbfbf\">             </span><span style=\"color: #800000; text-decoration-color: #800000\">decay at the plane boundaries.                                     </span>\n",
              "</pre>\n"
            ]
          },
          "metadata": {}
        },
        {
          "output_type": "stream",
          "name": "stdout",
          "text": [
            "DOF:  120582\n"
          ]
        },
        {
          "output_type": "display_data",
          "data": {
            "text/plain": [
              "\u001b[2;36m16:47:50 UTC\u001b[0m\u001b[2;36m \u001b[0m\u001b[31mWARNING: Mode field at frequency index \u001b[0m\u001b[1;36m0\u001b[0m\u001b[31m, mode index \u001b[0m\u001b[1;36m6\u001b[0m\u001b[31m does not    \u001b[0m\n",
              "\u001b[2;36m             \u001b[0m\u001b[31mdecay at the plane boundaries.                                     \u001b[0m\n"
            ],
            "text/html": [
              "<pre style=\"white-space:pre;overflow-x:auto;line-height:normal;font-family:Menlo,'DejaVu Sans Mono',consolas,'Courier New',monospace\"><span style=\"color: #7fbfbf; text-decoration-color: #7fbfbf\">16:47:50 UTC </span><span style=\"color: #800000; text-decoration-color: #800000\">WARNING: Mode field at frequency index </span><span style=\"color: #008080; text-decoration-color: #008080; font-weight: bold\">0</span><span style=\"color: #800000; text-decoration-color: #800000\">, mode index </span><span style=\"color: #008080; text-decoration-color: #008080; font-weight: bold\">6</span><span style=\"color: #800000; text-decoration-color: #800000\"> does not    </span>\n",
              "<span style=\"color: #7fbfbf; text-decoration-color: #7fbfbf\">             </span><span style=\"color: #800000; text-decoration-color: #800000\">decay at the plane boundaries.                                     </span>\n",
              "</pre>\n"
            ]
          },
          "metadata": {}
        },
        {
          "output_type": "display_data",
          "data": {
            "text/plain": [
              "\u001b[2;36m16:47:51 UTC\u001b[0m\u001b[2;36m \u001b[0m\u001b[31mWARNING: Mode field at frequency index \u001b[0m\u001b[1;36m0\u001b[0m\u001b[31m, mode index \u001b[0m\u001b[1;36m7\u001b[0m\u001b[31m does not    \u001b[0m\n",
              "\u001b[2;36m             \u001b[0m\u001b[31mdecay at the plane boundaries.                                     \u001b[0m\n"
            ],
            "text/html": [
              "<pre style=\"white-space:pre;overflow-x:auto;line-height:normal;font-family:Menlo,'DejaVu Sans Mono',consolas,'Courier New',monospace\"><span style=\"color: #7fbfbf; text-decoration-color: #7fbfbf\">16:47:51 UTC </span><span style=\"color: #800000; text-decoration-color: #800000\">WARNING: Mode field at frequency index </span><span style=\"color: #008080; text-decoration-color: #008080; font-weight: bold\">0</span><span style=\"color: #800000; text-decoration-color: #800000\">, mode index </span><span style=\"color: #008080; text-decoration-color: #008080; font-weight: bold\">7</span><span style=\"color: #800000; text-decoration-color: #800000\"> does not    </span>\n",
              "<span style=\"color: #7fbfbf; text-decoration-color: #7fbfbf\">             </span><span style=\"color: #800000; text-decoration-color: #800000\">decay at the plane boundaries.                                     </span>\n",
              "</pre>\n"
            ]
          },
          "metadata": {}
        },
        {
          "output_type": "display_data",
          "data": {
            "text/plain": [
              "\u001b[2;36m            \u001b[0m\u001b[2;36m \u001b[0m\u001b[31mWARNING: Mode field at frequency index \u001b[0m\u001b[1;36m0\u001b[0m\u001b[31m, mode index \u001b[0m\u001b[1;36m8\u001b[0m\u001b[31m does not    \u001b[0m\n",
              "\u001b[2;36m             \u001b[0m\u001b[31mdecay at the plane boundaries.                                     \u001b[0m\n"
            ],
            "text/html": [
              "<pre style=\"white-space:pre;overflow-x:auto;line-height:normal;font-family:Menlo,'DejaVu Sans Mono',consolas,'Courier New',monospace\"><span style=\"color: #7fbfbf; text-decoration-color: #7fbfbf\">             </span><span style=\"color: #800000; text-decoration-color: #800000\">WARNING: Mode field at frequency index </span><span style=\"color: #008080; text-decoration-color: #008080; font-weight: bold\">0</span><span style=\"color: #800000; text-decoration-color: #800000\">, mode index </span><span style=\"color: #008080; text-decoration-color: #008080; font-weight: bold\">8</span><span style=\"color: #800000; text-decoration-color: #800000\"> does not    </span>\n",
              "<span style=\"color: #7fbfbf; text-decoration-color: #7fbfbf\">             </span><span style=\"color: #800000; text-decoration-color: #800000\">decay at the plane boundaries.                                     </span>\n",
              "</pre>\n"
            ]
          },
          "metadata": {}
        },
        {
          "output_type": "display_data",
          "data": {
            "text/plain": [
              "\u001b[2;36m            \u001b[0m\u001b[2;36m \u001b[0m\u001b[31mWARNING: Mode field at frequency index \u001b[0m\u001b[1;36m0\u001b[0m\u001b[31m, mode index \u001b[0m\u001b[1;36m13\u001b[0m\u001b[31m does not   \u001b[0m\n",
              "\u001b[2;36m             \u001b[0m\u001b[31mdecay at the plane boundaries.                                     \u001b[0m\n"
            ],
            "text/html": [
              "<pre style=\"white-space:pre;overflow-x:auto;line-height:normal;font-family:Menlo,'DejaVu Sans Mono',consolas,'Courier New',monospace\"><span style=\"color: #7fbfbf; text-decoration-color: #7fbfbf\">             </span><span style=\"color: #800000; text-decoration-color: #800000\">WARNING: Mode field at frequency index </span><span style=\"color: #008080; text-decoration-color: #008080; font-weight: bold\">0</span><span style=\"color: #800000; text-decoration-color: #800000\">, mode index </span><span style=\"color: #008080; text-decoration-color: #008080; font-weight: bold\">13</span><span style=\"color: #800000; text-decoration-color: #800000\"> does not   </span>\n",
              "<span style=\"color: #7fbfbf; text-decoration-color: #7fbfbf\">             </span><span style=\"color: #800000; text-decoration-color: #800000\">decay at the plane boundaries.                                     </span>\n",
              "</pre>\n"
            ]
          },
          "metadata": {}
        },
        {
          "output_type": "stream",
          "name": "stdout",
          "text": [
            "DOF:  479440\n"
          ]
        },
        {
          "output_type": "display_data",
          "data": {
            "text/plain": [
              "\u001b[2;36m16:50:02 UTC\u001b[0m\u001b[2;36m \u001b[0m\u001b[31mWARNING: Mode field at frequency index \u001b[0m\u001b[1;36m0\u001b[0m\u001b[31m, mode index \u001b[0m\u001b[1;36m6\u001b[0m\u001b[31m does not    \u001b[0m\n",
              "\u001b[2;36m             \u001b[0m\u001b[31mdecay at the plane boundaries.                                     \u001b[0m\n"
            ],
            "text/html": [
              "<pre style=\"white-space:pre;overflow-x:auto;line-height:normal;font-family:Menlo,'DejaVu Sans Mono',consolas,'Courier New',monospace\"><span style=\"color: #7fbfbf; text-decoration-color: #7fbfbf\">16:50:02 UTC </span><span style=\"color: #800000; text-decoration-color: #800000\">WARNING: Mode field at frequency index </span><span style=\"color: #008080; text-decoration-color: #008080; font-weight: bold\">0</span><span style=\"color: #800000; text-decoration-color: #800000\">, mode index </span><span style=\"color: #008080; text-decoration-color: #008080; font-weight: bold\">6</span><span style=\"color: #800000; text-decoration-color: #800000\"> does not    </span>\n",
              "<span style=\"color: #7fbfbf; text-decoration-color: #7fbfbf\">             </span><span style=\"color: #800000; text-decoration-color: #800000\">decay at the plane boundaries.                                     </span>\n",
              "</pre>\n"
            ]
          },
          "metadata": {}
        },
        {
          "output_type": "display_data",
          "data": {
            "text/plain": [
              "\u001b[2;36m            \u001b[0m\u001b[2;36m \u001b[0m\u001b[31mWARNING: Mode field at frequency index \u001b[0m\u001b[1;36m0\u001b[0m\u001b[31m, mode index \u001b[0m\u001b[1;36m7\u001b[0m\u001b[31m does not    \u001b[0m\n",
              "\u001b[2;36m             \u001b[0m\u001b[31mdecay at the plane boundaries.                                     \u001b[0m\n"
            ],
            "text/html": [
              "<pre style=\"white-space:pre;overflow-x:auto;line-height:normal;font-family:Menlo,'DejaVu Sans Mono',consolas,'Courier New',monospace\"><span style=\"color: #7fbfbf; text-decoration-color: #7fbfbf\">             </span><span style=\"color: #800000; text-decoration-color: #800000\">WARNING: Mode field at frequency index </span><span style=\"color: #008080; text-decoration-color: #008080; font-weight: bold\">0</span><span style=\"color: #800000; text-decoration-color: #800000\">, mode index </span><span style=\"color: #008080; text-decoration-color: #008080; font-weight: bold\">7</span><span style=\"color: #800000; text-decoration-color: #800000\"> does not    </span>\n",
              "<span style=\"color: #7fbfbf; text-decoration-color: #7fbfbf\">             </span><span style=\"color: #800000; text-decoration-color: #800000\">decay at the plane boundaries.                                     </span>\n",
              "</pre>\n"
            ]
          },
          "metadata": {}
        },
        {
          "output_type": "display_data",
          "data": {
            "text/plain": [
              "\u001b[2;36m            \u001b[0m\u001b[2;36m \u001b[0m\u001b[31mWARNING: Mode field at frequency index \u001b[0m\u001b[1;36m0\u001b[0m\u001b[31m, mode index \u001b[0m\u001b[1;36m8\u001b[0m\u001b[31m does not    \u001b[0m\n",
              "\u001b[2;36m             \u001b[0m\u001b[31mdecay at the plane boundaries.                                     \u001b[0m\n"
            ],
            "text/html": [
              "<pre style=\"white-space:pre;overflow-x:auto;line-height:normal;font-family:Menlo,'DejaVu Sans Mono',consolas,'Courier New',monospace\"><span style=\"color: #7fbfbf; text-decoration-color: #7fbfbf\">             </span><span style=\"color: #800000; text-decoration-color: #800000\">WARNING: Mode field at frequency index </span><span style=\"color: #008080; text-decoration-color: #008080; font-weight: bold\">0</span><span style=\"color: #800000; text-decoration-color: #800000\">, mode index </span><span style=\"color: #008080; text-decoration-color: #008080; font-weight: bold\">8</span><span style=\"color: #800000; text-decoration-color: #800000\"> does not    </span>\n",
              "<span style=\"color: #7fbfbf; text-decoration-color: #7fbfbf\">             </span><span style=\"color: #800000; text-decoration-color: #800000\">decay at the plane boundaries.                                     </span>\n",
              "</pre>\n"
            ]
          },
          "metadata": {}
        },
        {
          "output_type": "stream",
          "name": "stdout",
          "text": [
            "DOF:  746350\n"
          ]
        }
      ],
      "source": [
        "ppws = [10,15,20,25,30,35,40,80,100]\n",
        "#ppws = [10]\n",
        "\n",
        "for i in range(len(ppws)):\n",
        "  start_time = time.perf_counter()\n",
        "  # Start memory tracking\n",
        "  process = psutil.Process(os.getpid())\n",
        "\n",
        "  # Unit length is micron.\n",
        "  wg_height = 0.67\n",
        "  wg_width = 0.89\n",
        "  # central radius of the simulated ring\n",
        "  radius = 23.0-wg_width/2.0\n",
        "\n",
        "  # Waveguide and substrate materials\n",
        "  mat_wg = td.Medium(permittivity=2.0221636**2.0)\n",
        "  mat_background = td.Medium(permittivity=1.449679**2.0)\n",
        "\n",
        "  # Free-space wavelength (in um) and frequency (in Hz)\n",
        "  lambda0 = 1.06\n",
        "  freq0 = td.C_0 / lambda0\n",
        "  fwidth = freq0 / 10\n",
        "\n",
        "  # Simulation size inside the PML along propagation direction\n",
        "  sim_length = 2.4*radius\n",
        "  # Simulation domain size, resolution and total run time\n",
        "  sim_size = [sim_length, 2.0*sim_length, 2.0*sim_length]\n",
        "  run_time = 80 / fwidth\n",
        "  grid_spec = td.GridSpec.auto(min_steps_per_wvl=ppws[i], wavelength=lambda0)\n",
        "\n",
        "\n",
        "  # The ring is made by two cylinders\n",
        "  cyl1 = td.Structure(\n",
        "      geometry=td.Cylinder(\n",
        "          center=[0, 0, 0],\n",
        "          radius=radius - wg_width / 2,\n",
        "          length=wg_height,\n",
        "          axis=2,\n",
        "      ),\n",
        "      #medium=td.Medium(),\n",
        "      medium=mat_background,\n",
        "  )\n",
        "  cyl2 = td.Structure(\n",
        "      geometry=td.Cylinder(\n",
        "          center=[0, 0, 0],\n",
        "          radius=radius + wg_width / 2,\n",
        "          length=wg_height,\n",
        "          axis=2,\n",
        "      ),\n",
        "      medium=mat_wg,\n",
        "  )\n",
        "\n",
        "  # xy-plane frequency-domain field monitor; slightly offset in z for better structure viz below\n",
        "  field_mnt = td.FieldMonitor(\n",
        "      center=[0, 0, 0], size=[td.inf, td.inf, 0], freqs=[freq0], name=\"field\"\n",
        "  )\n",
        "\n",
        "  # Flux monitor along the ring propagation direction\n",
        "  flux_mnt = td.FluxMonitor(\n",
        "      center=[0, radius, 0], size=[0, 5*wg_height, 5*wg_width], freqs=[freq0], name=\"flux\"\n",
        "  )\n",
        "\n",
        "  # Simulation\n",
        "  sim = td.Simulation(\n",
        "      center=[1.1*radius, 0, 0],\n",
        "      size=sim_size,\n",
        "      medium=mat_background,\n",
        "      grid_spec=grid_spec,\n",
        "      structures=[cyl2, cyl1],\n",
        "      sources=[],\n",
        "      monitors=[field_mnt, flux_mnt],\n",
        "      run_time=run_time,\n",
        "      boundary_spec=td.BoundarySpec(x=td.Boundary.absorber(), y=td.Boundary.pml(), z=td.Boundary.pml())\n",
        "  )\n",
        "\n",
        "  # Modal source plane\n",
        "  source_plane = td.Box(center=[0, -radius, 0], size=[0, 5*wg_height, 5*wg_width])\n",
        "\n",
        "  num_modes = 20\n",
        "  # NB: negative radius since the plane position is at y=-radius\n",
        "  mode_spec = td.ModeSpec(num_modes=num_modes, bend_radius=-radius, bend_axis=1)\n",
        "  ms = ModeSolver(simulation=sim, plane=source_plane, freqs=[freq0], mode_spec=mode_spec)\n",
        "\n",
        "  modes = ms.solve()\n",
        "\n",
        "  df = modes.to_dataframe()\n",
        "  end_time = time.perf_counter()\n",
        "\n",
        "  # Calculate elapsed time\n",
        "  elapsed_time = end_time - start_time\n",
        "  #print(\"Elapsed time: \", elapsed_time)\n",
        "  print(\"DOF: \", len(modes.Ex.y)*len(modes.Ex.z)*2)\n",
        "  #print(df.head(20))\n"
      ]
    },
    {
      "cell_type": "code",
      "execution_count": null,
      "metadata": {
        "id": "e3oOpa6Gf8X1"
      },
      "outputs": [],
      "source": []
    }
  ],
  "metadata": {
    "colab": {
      "provenance": [],
      "authorship_tag": "ABX9TyOM+bsetWk1irMwvpbh6cNS",
      "include_colab_link": true
    },
    "kernelspec": {
      "display_name": "Python 3",
      "name": "python3"
    },
    "language_info": {
      "name": "python"
    }
  },
  "nbformat": 4,
  "nbformat_minor": 0
}